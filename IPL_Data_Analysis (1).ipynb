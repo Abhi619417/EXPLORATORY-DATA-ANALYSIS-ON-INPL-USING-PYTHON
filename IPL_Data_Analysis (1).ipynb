{
 "cells": [
  {
   "cell_type": "markdown",
   "id": "27138d33",
   "metadata": {},
   "source": [
    "# The Sparks Foundation\n",
    "\n",
    "Data Science and Business Analytics Internship\n"
   ]
  },
  {
   "cell_type": "markdown",
   "id": "4aa41210",
   "metadata": {},
   "source": [
    "Exploratory Data Analysis on Indian Premier League\n",
    "\n",
    "Done by: Abhishek Singh"
   ]
  },
  {
   "cell_type": "markdown",
   "id": "4fa3bcbb",
   "metadata": {},
   "source": [
    "# Importing the neccessay libraries"
   ]
  },
  {
   "cell_type": "code",
   "execution_count": 2,
   "id": "2f8272bf",
   "metadata": {},
   "outputs": [],
   "source": [
    "import pandas as pd\n",
    "import matplotlib.pyplot as plt\n",
    "import numpy as np\n",
    "import seaborn as sns"
   ]
  },
  {
   "cell_type": "markdown",
   "id": "4b2767e8",
   "metadata": {},
   "source": [
    "# importing the datasets"
   ]
  },
  {
   "cell_type": "code",
   "execution_count": 3,
   "id": "4dd99873",
   "metadata": {},
   "outputs": [],
   "source": [
    "match_data=pd.read_csv(\"matches.csv\")\n",
    "deliveries_data=pd.read_csv(\"deliveries.csv\")\n"
   ]
  },
  {
   "cell_type": "markdown",
   "id": "0aff53e0",
   "metadata": {},
   "source": [
    "\n",
    "# Reading the first data"
   ]
  },
  {
   "cell_type": "code",
   "execution_count": 4,
   "id": "d8d34add",
   "metadata": {},
   "outputs": [
    {
     "data": {
      "text/html": [
       "<div>\n",
       "<style scoped>\n",
       "    .dataframe tbody tr th:only-of-type {\n",
       "        vertical-align: middle;\n",
       "    }\n",
       "\n",
       "    .dataframe tbody tr th {\n",
       "        vertical-align: top;\n",
       "    }\n",
       "\n",
       "    .dataframe thead th {\n",
       "        text-align: right;\n",
       "    }\n",
       "</style>\n",
       "<table border=\"1\" class=\"dataframe\">\n",
       "  <thead>\n",
       "    <tr style=\"text-align: right;\">\n",
       "      <th></th>\n",
       "      <th>id</th>\n",
       "      <th>season</th>\n",
       "      <th>city</th>\n",
       "      <th>date</th>\n",
       "      <th>team1</th>\n",
       "      <th>team2</th>\n",
       "      <th>toss_winner</th>\n",
       "      <th>toss_decision</th>\n",
       "      <th>result</th>\n",
       "      <th>dl_applied</th>\n",
       "      <th>winner</th>\n",
       "      <th>win_by_runs</th>\n",
       "      <th>win_by_wickets</th>\n",
       "      <th>player_of_match</th>\n",
       "      <th>venue</th>\n",
       "      <th>umpire1</th>\n",
       "      <th>umpire2</th>\n",
       "      <th>umpire3</th>\n",
       "    </tr>\n",
       "  </thead>\n",
       "  <tbody>\n",
       "    <tr>\n",
       "      <th>0</th>\n",
       "      <td>1</td>\n",
       "      <td>2017</td>\n",
       "      <td>Hyderabad</td>\n",
       "      <td>2017-04-05</td>\n",
       "      <td>Sunrisers Hyderabad</td>\n",
       "      <td>Royal Challengers Bangalore</td>\n",
       "      <td>Royal Challengers Bangalore</td>\n",
       "      <td>field</td>\n",
       "      <td>normal</td>\n",
       "      <td>0</td>\n",
       "      <td>Sunrisers Hyderabad</td>\n",
       "      <td>35</td>\n",
       "      <td>0</td>\n",
       "      <td>Yuvraj Singh</td>\n",
       "      <td>Rajiv Gandhi International Stadium, Uppal</td>\n",
       "      <td>AY Dandekar</td>\n",
       "      <td>NJ Llong</td>\n",
       "      <td>NaN</td>\n",
       "    </tr>\n",
       "    <tr>\n",
       "      <th>1</th>\n",
       "      <td>2</td>\n",
       "      <td>2017</td>\n",
       "      <td>Pune</td>\n",
       "      <td>2017-04-06</td>\n",
       "      <td>Mumbai Indians</td>\n",
       "      <td>Rising Pune Supergiant</td>\n",
       "      <td>Rising Pune Supergiant</td>\n",
       "      <td>field</td>\n",
       "      <td>normal</td>\n",
       "      <td>0</td>\n",
       "      <td>Rising Pune Supergiant</td>\n",
       "      <td>0</td>\n",
       "      <td>7</td>\n",
       "      <td>SPD Smith</td>\n",
       "      <td>Maharashtra Cricket Association Stadium</td>\n",
       "      <td>A Nand Kishore</td>\n",
       "      <td>S Ravi</td>\n",
       "      <td>NaN</td>\n",
       "    </tr>\n",
       "    <tr>\n",
       "      <th>2</th>\n",
       "      <td>3</td>\n",
       "      <td>2017</td>\n",
       "      <td>Rajkot</td>\n",
       "      <td>2017-04-07</td>\n",
       "      <td>Gujarat Lions</td>\n",
       "      <td>Kolkata Knight Riders</td>\n",
       "      <td>Kolkata Knight Riders</td>\n",
       "      <td>field</td>\n",
       "      <td>normal</td>\n",
       "      <td>0</td>\n",
       "      <td>Kolkata Knight Riders</td>\n",
       "      <td>0</td>\n",
       "      <td>10</td>\n",
       "      <td>CA Lynn</td>\n",
       "      <td>Saurashtra Cricket Association Stadium</td>\n",
       "      <td>Nitin Menon</td>\n",
       "      <td>CK Nandan</td>\n",
       "      <td>NaN</td>\n",
       "    </tr>\n",
       "    <tr>\n",
       "      <th>3</th>\n",
       "      <td>4</td>\n",
       "      <td>2017</td>\n",
       "      <td>Indore</td>\n",
       "      <td>2017-04-08</td>\n",
       "      <td>Rising Pune Supergiant</td>\n",
       "      <td>Kings XI Punjab</td>\n",
       "      <td>Kings XI Punjab</td>\n",
       "      <td>field</td>\n",
       "      <td>normal</td>\n",
       "      <td>0</td>\n",
       "      <td>Kings XI Punjab</td>\n",
       "      <td>0</td>\n",
       "      <td>6</td>\n",
       "      <td>GJ Maxwell</td>\n",
       "      <td>Holkar Cricket Stadium</td>\n",
       "      <td>AK Chaudhary</td>\n",
       "      <td>C Shamshuddin</td>\n",
       "      <td>NaN</td>\n",
       "    </tr>\n",
       "    <tr>\n",
       "      <th>4</th>\n",
       "      <td>5</td>\n",
       "      <td>2017</td>\n",
       "      <td>Bangalore</td>\n",
       "      <td>2017-04-08</td>\n",
       "      <td>Royal Challengers Bangalore</td>\n",
       "      <td>Delhi Daredevils</td>\n",
       "      <td>Royal Challengers Bangalore</td>\n",
       "      <td>bat</td>\n",
       "      <td>normal</td>\n",
       "      <td>0</td>\n",
       "      <td>Royal Challengers Bangalore</td>\n",
       "      <td>15</td>\n",
       "      <td>0</td>\n",
       "      <td>KM Jadhav</td>\n",
       "      <td>M Chinnaswamy Stadium</td>\n",
       "      <td>NaN</td>\n",
       "      <td>NaN</td>\n",
       "      <td>NaN</td>\n",
       "    </tr>\n",
       "    <tr>\n",
       "      <th>5</th>\n",
       "      <td>6</td>\n",
       "      <td>2017</td>\n",
       "      <td>Hyderabad</td>\n",
       "      <td>2017-04-09</td>\n",
       "      <td>Gujarat Lions</td>\n",
       "      <td>Sunrisers Hyderabad</td>\n",
       "      <td>Sunrisers Hyderabad</td>\n",
       "      <td>field</td>\n",
       "      <td>normal</td>\n",
       "      <td>0</td>\n",
       "      <td>Sunrisers Hyderabad</td>\n",
       "      <td>0</td>\n",
       "      <td>9</td>\n",
       "      <td>Rashid Khan</td>\n",
       "      <td>Rajiv Gandhi International Stadium, Uppal</td>\n",
       "      <td>A Deshmukh</td>\n",
       "      <td>NJ Llong</td>\n",
       "      <td>NaN</td>\n",
       "    </tr>\n",
       "    <tr>\n",
       "      <th>6</th>\n",
       "      <td>7</td>\n",
       "      <td>2017</td>\n",
       "      <td>Mumbai</td>\n",
       "      <td>2017-04-09</td>\n",
       "      <td>Kolkata Knight Riders</td>\n",
       "      <td>Mumbai Indians</td>\n",
       "      <td>Mumbai Indians</td>\n",
       "      <td>field</td>\n",
       "      <td>normal</td>\n",
       "      <td>0</td>\n",
       "      <td>Mumbai Indians</td>\n",
       "      <td>0</td>\n",
       "      <td>4</td>\n",
       "      <td>N Rana</td>\n",
       "      <td>Wankhede Stadium</td>\n",
       "      <td>Nitin Menon</td>\n",
       "      <td>CK Nandan</td>\n",
       "      <td>NaN</td>\n",
       "    </tr>\n",
       "    <tr>\n",
       "      <th>7</th>\n",
       "      <td>8</td>\n",
       "      <td>2017</td>\n",
       "      <td>Indore</td>\n",
       "      <td>2017-04-10</td>\n",
       "      <td>Royal Challengers Bangalore</td>\n",
       "      <td>Kings XI Punjab</td>\n",
       "      <td>Royal Challengers Bangalore</td>\n",
       "      <td>bat</td>\n",
       "      <td>normal</td>\n",
       "      <td>0</td>\n",
       "      <td>Kings XI Punjab</td>\n",
       "      <td>0</td>\n",
       "      <td>8</td>\n",
       "      <td>AR Patel</td>\n",
       "      <td>Holkar Cricket Stadium</td>\n",
       "      <td>AK Chaudhary</td>\n",
       "      <td>C Shamshuddin</td>\n",
       "      <td>NaN</td>\n",
       "    </tr>\n",
       "    <tr>\n",
       "      <th>8</th>\n",
       "      <td>9</td>\n",
       "      <td>2017</td>\n",
       "      <td>Pune</td>\n",
       "      <td>2017-04-11</td>\n",
       "      <td>Delhi Daredevils</td>\n",
       "      <td>Rising Pune Supergiant</td>\n",
       "      <td>Rising Pune Supergiant</td>\n",
       "      <td>field</td>\n",
       "      <td>normal</td>\n",
       "      <td>0</td>\n",
       "      <td>Delhi Daredevils</td>\n",
       "      <td>97</td>\n",
       "      <td>0</td>\n",
       "      <td>SV Samson</td>\n",
       "      <td>Maharashtra Cricket Association Stadium</td>\n",
       "      <td>AY Dandekar</td>\n",
       "      <td>S Ravi</td>\n",
       "      <td>NaN</td>\n",
       "    </tr>\n",
       "    <tr>\n",
       "      <th>9</th>\n",
       "      <td>10</td>\n",
       "      <td>2017</td>\n",
       "      <td>Mumbai</td>\n",
       "      <td>2017-04-12</td>\n",
       "      <td>Sunrisers Hyderabad</td>\n",
       "      <td>Mumbai Indians</td>\n",
       "      <td>Mumbai Indians</td>\n",
       "      <td>field</td>\n",
       "      <td>normal</td>\n",
       "      <td>0</td>\n",
       "      <td>Mumbai Indians</td>\n",
       "      <td>0</td>\n",
       "      <td>4</td>\n",
       "      <td>JJ Bumrah</td>\n",
       "      <td>Wankhede Stadium</td>\n",
       "      <td>Nitin Menon</td>\n",
       "      <td>CK Nandan</td>\n",
       "      <td>NaN</td>\n",
       "    </tr>\n",
       "  </tbody>\n",
       "</table>\n",
       "</div>"
      ],
      "text/plain": [
       "   id  season       city        date                        team1  \\\n",
       "0   1    2017  Hyderabad  2017-04-05          Sunrisers Hyderabad   \n",
       "1   2    2017       Pune  2017-04-06               Mumbai Indians   \n",
       "2   3    2017     Rajkot  2017-04-07                Gujarat Lions   \n",
       "3   4    2017     Indore  2017-04-08       Rising Pune Supergiant   \n",
       "4   5    2017  Bangalore  2017-04-08  Royal Challengers Bangalore   \n",
       "5   6    2017  Hyderabad  2017-04-09                Gujarat Lions   \n",
       "6   7    2017     Mumbai  2017-04-09        Kolkata Knight Riders   \n",
       "7   8    2017     Indore  2017-04-10  Royal Challengers Bangalore   \n",
       "8   9    2017       Pune  2017-04-11             Delhi Daredevils   \n",
       "9  10    2017     Mumbai  2017-04-12          Sunrisers Hyderabad   \n",
       "\n",
       "                         team2                  toss_winner toss_decision  \\\n",
       "0  Royal Challengers Bangalore  Royal Challengers Bangalore         field   \n",
       "1       Rising Pune Supergiant       Rising Pune Supergiant         field   \n",
       "2        Kolkata Knight Riders        Kolkata Knight Riders         field   \n",
       "3              Kings XI Punjab              Kings XI Punjab         field   \n",
       "4             Delhi Daredevils  Royal Challengers Bangalore           bat   \n",
       "5          Sunrisers Hyderabad          Sunrisers Hyderabad         field   \n",
       "6               Mumbai Indians               Mumbai Indians         field   \n",
       "7              Kings XI Punjab  Royal Challengers Bangalore           bat   \n",
       "8       Rising Pune Supergiant       Rising Pune Supergiant         field   \n",
       "9               Mumbai Indians               Mumbai Indians         field   \n",
       "\n",
       "   result  dl_applied                       winner  win_by_runs  \\\n",
       "0  normal           0          Sunrisers Hyderabad           35   \n",
       "1  normal           0       Rising Pune Supergiant            0   \n",
       "2  normal           0        Kolkata Knight Riders            0   \n",
       "3  normal           0              Kings XI Punjab            0   \n",
       "4  normal           0  Royal Challengers Bangalore           15   \n",
       "5  normal           0          Sunrisers Hyderabad            0   \n",
       "6  normal           0               Mumbai Indians            0   \n",
       "7  normal           0              Kings XI Punjab            0   \n",
       "8  normal           0             Delhi Daredevils           97   \n",
       "9  normal           0               Mumbai Indians            0   \n",
       "\n",
       "   win_by_wickets player_of_match                                      venue  \\\n",
       "0               0    Yuvraj Singh  Rajiv Gandhi International Stadium, Uppal   \n",
       "1               7       SPD Smith    Maharashtra Cricket Association Stadium   \n",
       "2              10         CA Lynn     Saurashtra Cricket Association Stadium   \n",
       "3               6      GJ Maxwell                     Holkar Cricket Stadium   \n",
       "4               0       KM Jadhav                      M Chinnaswamy Stadium   \n",
       "5               9     Rashid Khan  Rajiv Gandhi International Stadium, Uppal   \n",
       "6               4          N Rana                           Wankhede Stadium   \n",
       "7               8        AR Patel                     Holkar Cricket Stadium   \n",
       "8               0       SV Samson    Maharashtra Cricket Association Stadium   \n",
       "9               4       JJ Bumrah                           Wankhede Stadium   \n",
       "\n",
       "          umpire1        umpire2 umpire3  \n",
       "0     AY Dandekar       NJ Llong     NaN  \n",
       "1  A Nand Kishore         S Ravi     NaN  \n",
       "2     Nitin Menon      CK Nandan     NaN  \n",
       "3    AK Chaudhary  C Shamshuddin     NaN  \n",
       "4             NaN            NaN     NaN  \n",
       "5      A Deshmukh       NJ Llong     NaN  \n",
       "6     Nitin Menon      CK Nandan     NaN  \n",
       "7    AK Chaudhary  C Shamshuddin     NaN  \n",
       "8     AY Dandekar         S Ravi     NaN  \n",
       "9     Nitin Menon      CK Nandan     NaN  "
      ]
     },
     "execution_count": 4,
     "metadata": {},
     "output_type": "execute_result"
    }
   ],
   "source": [
    "match_data.head(10)"
   ]
  },
  {
   "cell_type": "markdown",
   "id": "2f03fc49",
   "metadata": {},
   "source": [
    "# Data information"
   ]
  },
  {
   "cell_type": "code",
   "execution_count": 5,
   "id": "26ca435e",
   "metadata": {},
   "outputs": [
    {
     "name": "stdout",
     "output_type": "stream",
     "text": [
      "<class 'pandas.core.frame.DataFrame'>\n",
      "RangeIndex: 756 entries, 0 to 755\n",
      "Data columns (total 18 columns):\n",
      " #   Column           Non-Null Count  Dtype \n",
      "---  ------           --------------  ----- \n",
      " 0   id               756 non-null    int64 \n",
      " 1   season           756 non-null    int64 \n",
      " 2   city             749 non-null    object\n",
      " 3   date             756 non-null    object\n",
      " 4   team1            756 non-null    object\n",
      " 5   team2            756 non-null    object\n",
      " 6   toss_winner      756 non-null    object\n",
      " 7   toss_decision    756 non-null    object\n",
      " 8   result           756 non-null    object\n",
      " 9   dl_applied       756 non-null    int64 \n",
      " 10  winner           752 non-null    object\n",
      " 11  win_by_runs      756 non-null    int64 \n",
      " 12  win_by_wickets   756 non-null    int64 \n",
      " 13  player_of_match  752 non-null    object\n",
      " 14  venue            756 non-null    object\n",
      " 15  umpire1          754 non-null    object\n",
      " 16  umpire2          754 non-null    object\n",
      " 17  umpire3          119 non-null    object\n",
      "dtypes: int64(5), object(13)\n",
      "memory usage: 106.4+ KB\n"
     ]
    }
   ],
   "source": [
    "match_data.info()"
   ]
  },
  {
   "cell_type": "markdown",
   "id": "57c0f484",
   "metadata": {},
   "source": [
    "# Total number of Seasons"
   ]
  },
  {
   "cell_type": "code",
   "execution_count": 6,
   "id": "d07bcb4a",
   "metadata": {},
   "outputs": [
    {
     "data": {
      "text/plain": [
       "array([2017, 2008, 2009, 2010, 2011, 2012, 2013, 2014, 2015, 2016, 2018,\n",
       "       2019], dtype=int64)"
      ]
     },
     "execution_count": 6,
     "metadata": {},
     "output_type": "execute_result"
    }
   ],
   "source": [
    "match_data[\"season\"].unique()\n"
   ]
  },
  {
   "cell_type": "code",
   "execution_count": 7,
   "id": "3213a75a",
   "metadata": {},
   "outputs": [
    {
     "data": {
      "text/plain": [
       "12"
      ]
     },
     "execution_count": 7,
     "metadata": {},
     "output_type": "execute_result"
    }
   ],
   "source": [
    "len(match_data[\"season\"].unique())"
   ]
  },
  {
   "cell_type": "markdown",
   "id": "802cc49d",
   "metadata": {},
   "source": [
    "Total no of season=12"
   ]
  },
  {
   "cell_type": "markdown",
   "id": "cbcd4b81",
   "metadata": {},
   "source": [
    "# Checking the null values"
   ]
  },
  {
   "cell_type": "code",
   "execution_count": 8,
   "id": "88fd2881",
   "metadata": {},
   "outputs": [
    {
     "data": {
      "text/plain": [
       "id                   0\n",
       "season               0\n",
       "city                 7\n",
       "date                 0\n",
       "team1                0\n",
       "team2                0\n",
       "toss_winner          0\n",
       "toss_decision        0\n",
       "result               0\n",
       "dl_applied           0\n",
       "winner               4\n",
       "win_by_runs          0\n",
       "win_by_wickets       0\n",
       "player_of_match      4\n",
       "venue                0\n",
       "umpire1              2\n",
       "umpire2              2\n",
       "umpire3            637\n",
       "dtype: int64"
      ]
     },
     "execution_count": 8,
     "metadata": {},
     "output_type": "execute_result"
    }
   ],
   "source": [
    "match_data.isnull().sum()"
   ]
  },
  {
   "cell_type": "code",
   "execution_count": 9,
   "id": "bea15bc5",
   "metadata": {},
   "outputs": [
    {
     "data": {
      "text/html": [
       "<div>\n",
       "<style scoped>\n",
       "    .dataframe tbody tr th:only-of-type {\n",
       "        vertical-align: middle;\n",
       "    }\n",
       "\n",
       "    .dataframe tbody tr th {\n",
       "        vertical-align: top;\n",
       "    }\n",
       "\n",
       "    .dataframe thead th {\n",
       "        text-align: right;\n",
       "    }\n",
       "</style>\n",
       "<table border=\"1\" class=\"dataframe\">\n",
       "  <thead>\n",
       "    <tr style=\"text-align: right;\">\n",
       "      <th></th>\n",
       "      <th>id</th>\n",
       "      <th>season</th>\n",
       "      <th>dl_applied</th>\n",
       "      <th>win_by_runs</th>\n",
       "      <th>win_by_wickets</th>\n",
       "    </tr>\n",
       "  </thead>\n",
       "  <tbody>\n",
       "    <tr>\n",
       "      <th>count</th>\n",
       "      <td>756.000000</td>\n",
       "      <td>756.000000</td>\n",
       "      <td>756.000000</td>\n",
       "      <td>756.000000</td>\n",
       "      <td>756.000000</td>\n",
       "    </tr>\n",
       "    <tr>\n",
       "      <th>mean</th>\n",
       "      <td>1792.178571</td>\n",
       "      <td>2013.444444</td>\n",
       "      <td>0.025132</td>\n",
       "      <td>13.283069</td>\n",
       "      <td>3.350529</td>\n",
       "    </tr>\n",
       "    <tr>\n",
       "      <th>std</th>\n",
       "      <td>3464.478148</td>\n",
       "      <td>3.366895</td>\n",
       "      <td>0.156630</td>\n",
       "      <td>23.471144</td>\n",
       "      <td>3.387963</td>\n",
       "    </tr>\n",
       "    <tr>\n",
       "      <th>min</th>\n",
       "      <td>1.000000</td>\n",
       "      <td>2008.000000</td>\n",
       "      <td>0.000000</td>\n",
       "      <td>0.000000</td>\n",
       "      <td>0.000000</td>\n",
       "    </tr>\n",
       "    <tr>\n",
       "      <th>25%</th>\n",
       "      <td>189.750000</td>\n",
       "      <td>2011.000000</td>\n",
       "      <td>0.000000</td>\n",
       "      <td>0.000000</td>\n",
       "      <td>0.000000</td>\n",
       "    </tr>\n",
       "    <tr>\n",
       "      <th>50%</th>\n",
       "      <td>378.500000</td>\n",
       "      <td>2013.000000</td>\n",
       "      <td>0.000000</td>\n",
       "      <td>0.000000</td>\n",
       "      <td>4.000000</td>\n",
       "    </tr>\n",
       "    <tr>\n",
       "      <th>75%</th>\n",
       "      <td>567.250000</td>\n",
       "      <td>2016.000000</td>\n",
       "      <td>0.000000</td>\n",
       "      <td>19.000000</td>\n",
       "      <td>6.000000</td>\n",
       "    </tr>\n",
       "    <tr>\n",
       "      <th>max</th>\n",
       "      <td>11415.000000</td>\n",
       "      <td>2019.000000</td>\n",
       "      <td>1.000000</td>\n",
       "      <td>146.000000</td>\n",
       "      <td>10.000000</td>\n",
       "    </tr>\n",
       "  </tbody>\n",
       "</table>\n",
       "</div>"
      ],
      "text/plain": [
       "                 id       season  dl_applied  win_by_runs  win_by_wickets\n",
       "count    756.000000   756.000000  756.000000   756.000000      756.000000\n",
       "mean    1792.178571  2013.444444    0.025132    13.283069        3.350529\n",
       "std     3464.478148     3.366895    0.156630    23.471144        3.387963\n",
       "min        1.000000  2008.000000    0.000000     0.000000        0.000000\n",
       "25%      189.750000  2011.000000    0.000000     0.000000        0.000000\n",
       "50%      378.500000  2013.000000    0.000000     0.000000        4.000000\n",
       "75%      567.250000  2016.000000    0.000000    19.000000        6.000000\n",
       "max    11415.000000  2019.000000    1.000000   146.000000       10.000000"
      ]
     },
     "execution_count": 9,
     "metadata": {},
     "output_type": "execute_result"
    }
   ],
   "source": [
    "match_data.describe()"
   ]
  },
  {
   "cell_type": "code",
   "execution_count": 10,
   "id": "aafd4dc3",
   "metadata": {},
   "outputs": [
    {
     "name": "stdout",
     "output_type": "stream",
     "text": [
      "<class 'pandas.core.frame.DataFrame'>\n",
      "RangeIndex: 179078 entries, 0 to 179077\n",
      "Data columns (total 21 columns):\n",
      " #   Column            Non-Null Count   Dtype \n",
      "---  ------            --------------   ----- \n",
      " 0   match_id          179078 non-null  int64 \n",
      " 1   inning            179078 non-null  int64 \n",
      " 2   batting_team      179078 non-null  object\n",
      " 3   bowling_team      179078 non-null  object\n",
      " 4   over              179078 non-null  int64 \n",
      " 5   ball              179078 non-null  int64 \n",
      " 6   batsman           179078 non-null  object\n",
      " 7   non_striker       179078 non-null  object\n",
      " 8   bowler            179078 non-null  object\n",
      " 9   is_super_over     179078 non-null  int64 \n",
      " 10  wide_runs         179078 non-null  int64 \n",
      " 11  bye_runs          179078 non-null  int64 \n",
      " 12  legbye_runs       179078 non-null  int64 \n",
      " 13  noball_runs       179078 non-null  int64 \n",
      " 14  penalty_runs      179078 non-null  int64 \n",
      " 15  batsman_runs      179078 non-null  int64 \n",
      " 16  extra_runs        179078 non-null  int64 \n",
      " 17  total_runs        179078 non-null  int64 \n",
      " 18  player_dismissed  8834 non-null    object\n",
      " 19  dismissal_kind    8834 non-null    object\n",
      " 20  fielder           6448 non-null    object\n",
      "dtypes: int64(13), object(8)\n",
      "memory usage: 28.7+ MB\n"
     ]
    }
   ],
   "source": [
    "deliveries_data.info()"
   ]
  },
  {
   "cell_type": "code",
   "execution_count": 11,
   "id": "24b7b867",
   "metadata": {},
   "outputs": [
    {
     "data": {
      "text/plain": [
       "match_id                 0\n",
       "inning                   0\n",
       "batting_team             0\n",
       "bowling_team             0\n",
       "over                     0\n",
       "ball                     0\n",
       "batsman                  0\n",
       "non_striker              0\n",
       "bowler                   0\n",
       "is_super_over            0\n",
       "wide_runs                0\n",
       "bye_runs                 0\n",
       "legbye_runs              0\n",
       "noball_runs              0\n",
       "penalty_runs             0\n",
       "batsman_runs             0\n",
       "extra_runs               0\n",
       "total_runs               0\n",
       "player_dismissed    170244\n",
       "dismissal_kind      170244\n",
       "fielder             172630\n",
       "dtype: int64"
      ]
     },
     "execution_count": 11,
     "metadata": {},
     "output_type": "execute_result"
    }
   ],
   "source": [
    "deliveries_data.isnull().sum()"
   ]
  },
  {
   "cell_type": "code",
   "execution_count": 12,
   "id": "0d40c8e8",
   "metadata": {},
   "outputs": [
    {
     "data": {
      "text/html": [
       "<div>\n",
       "<style scoped>\n",
       "    .dataframe tbody tr th:only-of-type {\n",
       "        vertical-align: middle;\n",
       "    }\n",
       "\n",
       "    .dataframe tbody tr th {\n",
       "        vertical-align: top;\n",
       "    }\n",
       "\n",
       "    .dataframe thead th {\n",
       "        text-align: right;\n",
       "    }\n",
       "</style>\n",
       "<table border=\"1\" class=\"dataframe\">\n",
       "  <thead>\n",
       "    <tr style=\"text-align: right;\">\n",
       "      <th></th>\n",
       "      <th>match_id</th>\n",
       "      <th>inning</th>\n",
       "      <th>over</th>\n",
       "      <th>ball</th>\n",
       "      <th>is_super_over</th>\n",
       "      <th>wide_runs</th>\n",
       "      <th>bye_runs</th>\n",
       "      <th>legbye_runs</th>\n",
       "      <th>noball_runs</th>\n",
       "      <th>penalty_runs</th>\n",
       "      <th>batsman_runs</th>\n",
       "      <th>extra_runs</th>\n",
       "      <th>total_runs</th>\n",
       "    </tr>\n",
       "  </thead>\n",
       "  <tbody>\n",
       "    <tr>\n",
       "      <th>count</th>\n",
       "      <td>179078.000000</td>\n",
       "      <td>179078.000000</td>\n",
       "      <td>179078.000000</td>\n",
       "      <td>179078.000000</td>\n",
       "      <td>179078.000000</td>\n",
       "      <td>179078.000000</td>\n",
       "      <td>179078.000000</td>\n",
       "      <td>179078.000000</td>\n",
       "      <td>179078.000000</td>\n",
       "      <td>179078.000000</td>\n",
       "      <td>179078.000000</td>\n",
       "      <td>179078.000000</td>\n",
       "      <td>179078.000000</td>\n",
       "    </tr>\n",
       "    <tr>\n",
       "      <th>mean</th>\n",
       "      <td>1802.252957</td>\n",
       "      <td>1.482952</td>\n",
       "      <td>10.162488</td>\n",
       "      <td>3.615587</td>\n",
       "      <td>0.000452</td>\n",
       "      <td>0.036721</td>\n",
       "      <td>0.004936</td>\n",
       "      <td>0.021136</td>\n",
       "      <td>0.004183</td>\n",
       "      <td>0.000056</td>\n",
       "      <td>1.246864</td>\n",
       "      <td>0.067032</td>\n",
       "      <td>1.313897</td>\n",
       "    </tr>\n",
       "    <tr>\n",
       "      <th>std</th>\n",
       "      <td>3472.322805</td>\n",
       "      <td>0.502074</td>\n",
       "      <td>5.677684</td>\n",
       "      <td>1.806966</td>\n",
       "      <td>0.021263</td>\n",
       "      <td>0.251161</td>\n",
       "      <td>0.116480</td>\n",
       "      <td>0.194908</td>\n",
       "      <td>0.070492</td>\n",
       "      <td>0.016709</td>\n",
       "      <td>1.608270</td>\n",
       "      <td>0.342553</td>\n",
       "      <td>1.605422</td>\n",
       "    </tr>\n",
       "    <tr>\n",
       "      <th>min</th>\n",
       "      <td>1.000000</td>\n",
       "      <td>1.000000</td>\n",
       "      <td>1.000000</td>\n",
       "      <td>1.000000</td>\n",
       "      <td>0.000000</td>\n",
       "      <td>0.000000</td>\n",
       "      <td>0.000000</td>\n",
       "      <td>0.000000</td>\n",
       "      <td>0.000000</td>\n",
       "      <td>0.000000</td>\n",
       "      <td>0.000000</td>\n",
       "      <td>0.000000</td>\n",
       "      <td>0.000000</td>\n",
       "    </tr>\n",
       "    <tr>\n",
       "      <th>25%</th>\n",
       "      <td>190.000000</td>\n",
       "      <td>1.000000</td>\n",
       "      <td>5.000000</td>\n",
       "      <td>2.000000</td>\n",
       "      <td>0.000000</td>\n",
       "      <td>0.000000</td>\n",
       "      <td>0.000000</td>\n",
       "      <td>0.000000</td>\n",
       "      <td>0.000000</td>\n",
       "      <td>0.000000</td>\n",
       "      <td>0.000000</td>\n",
       "      <td>0.000000</td>\n",
       "      <td>0.000000</td>\n",
       "    </tr>\n",
       "    <tr>\n",
       "      <th>50%</th>\n",
       "      <td>379.000000</td>\n",
       "      <td>1.000000</td>\n",
       "      <td>10.000000</td>\n",
       "      <td>4.000000</td>\n",
       "      <td>0.000000</td>\n",
       "      <td>0.000000</td>\n",
       "      <td>0.000000</td>\n",
       "      <td>0.000000</td>\n",
       "      <td>0.000000</td>\n",
       "      <td>0.000000</td>\n",
       "      <td>1.000000</td>\n",
       "      <td>0.000000</td>\n",
       "      <td>1.000000</td>\n",
       "    </tr>\n",
       "    <tr>\n",
       "      <th>75%</th>\n",
       "      <td>567.000000</td>\n",
       "      <td>2.000000</td>\n",
       "      <td>15.000000</td>\n",
       "      <td>5.000000</td>\n",
       "      <td>0.000000</td>\n",
       "      <td>0.000000</td>\n",
       "      <td>0.000000</td>\n",
       "      <td>0.000000</td>\n",
       "      <td>0.000000</td>\n",
       "      <td>0.000000</td>\n",
       "      <td>1.000000</td>\n",
       "      <td>0.000000</td>\n",
       "      <td>1.000000</td>\n",
       "    </tr>\n",
       "    <tr>\n",
       "      <th>max</th>\n",
       "      <td>11415.000000</td>\n",
       "      <td>5.000000</td>\n",
       "      <td>20.000000</td>\n",
       "      <td>9.000000</td>\n",
       "      <td>1.000000</td>\n",
       "      <td>5.000000</td>\n",
       "      <td>4.000000</td>\n",
       "      <td>5.000000</td>\n",
       "      <td>5.000000</td>\n",
       "      <td>5.000000</td>\n",
       "      <td>7.000000</td>\n",
       "      <td>7.000000</td>\n",
       "      <td>10.000000</td>\n",
       "    </tr>\n",
       "  </tbody>\n",
       "</table>\n",
       "</div>"
      ],
      "text/plain": [
       "            match_id         inning           over           ball  \\\n",
       "count  179078.000000  179078.000000  179078.000000  179078.000000   \n",
       "mean     1802.252957       1.482952      10.162488       3.615587   \n",
       "std      3472.322805       0.502074       5.677684       1.806966   \n",
       "min         1.000000       1.000000       1.000000       1.000000   \n",
       "25%       190.000000       1.000000       5.000000       2.000000   \n",
       "50%       379.000000       1.000000      10.000000       4.000000   \n",
       "75%       567.000000       2.000000      15.000000       5.000000   \n",
       "max     11415.000000       5.000000      20.000000       9.000000   \n",
       "\n",
       "       is_super_over      wide_runs       bye_runs    legbye_runs  \\\n",
       "count  179078.000000  179078.000000  179078.000000  179078.000000   \n",
       "mean        0.000452       0.036721       0.004936       0.021136   \n",
       "std         0.021263       0.251161       0.116480       0.194908   \n",
       "min         0.000000       0.000000       0.000000       0.000000   \n",
       "25%         0.000000       0.000000       0.000000       0.000000   \n",
       "50%         0.000000       0.000000       0.000000       0.000000   \n",
       "75%         0.000000       0.000000       0.000000       0.000000   \n",
       "max         1.000000       5.000000       4.000000       5.000000   \n",
       "\n",
       "         noball_runs   penalty_runs   batsman_runs     extra_runs  \\\n",
       "count  179078.000000  179078.000000  179078.000000  179078.000000   \n",
       "mean        0.004183       0.000056       1.246864       0.067032   \n",
       "std         0.070492       0.016709       1.608270       0.342553   \n",
       "min         0.000000       0.000000       0.000000       0.000000   \n",
       "25%         0.000000       0.000000       0.000000       0.000000   \n",
       "50%         0.000000       0.000000       1.000000       0.000000   \n",
       "75%         0.000000       0.000000       1.000000       0.000000   \n",
       "max         5.000000       5.000000       7.000000       7.000000   \n",
       "\n",
       "          total_runs  \n",
       "count  179078.000000  \n",
       "mean        1.313897  \n",
       "std         1.605422  \n",
       "min         0.000000  \n",
       "25%         0.000000  \n",
       "50%         1.000000  \n",
       "75%         1.000000  \n",
       "max        10.000000  "
      ]
     },
     "execution_count": 12,
     "metadata": {},
     "output_type": "execute_result"
    }
   ],
   "source": [
    "deliveries_data.describe()"
   ]
  },
  {
   "cell_type": "code",
   "execution_count": 13,
   "id": "aef005c0",
   "metadata": {},
   "outputs": [
    {
     "data": {
      "text/plain": [
       "array(['Chennai Super Kings', 'Deccan Chargers', 'Delhi Capitals',\n",
       "       'Delhi Daredevils', 'Gujarat Lions', 'Kings XI Punjab',\n",
       "       'Kochi Tuskers Kerala', 'Kolkata Knight Riders', 'Mumbai Indians',\n",
       "       'Pune Warriors', 'Rajasthan Royals', 'Rising Pune Supergiant',\n",
       "       'Rising Pune Supergiants', 'Royal Challengers Bangalore',\n",
       "       'Sunrisers Hyderabad'], dtype=object)"
      ]
     },
     "execution_count": 13,
     "metadata": {},
     "output_type": "execute_result"
    }
   ],
   "source": [
    "team=np.union1d(match_data[\"team1\"].unique(),match_data[\"team2\"].unique())\n",
    "team"
   ]
  },
  {
   "cell_type": "markdown",
   "id": "e832864a",
   "metadata": {},
   "source": [
    "There is spelling mistake in team name : Rising Pune Supergiant,Rising pune Supergiants"
   ]
  },
  {
   "cell_type": "code",
   "execution_count": 14,
   "id": "a9844d3a",
   "metadata": {},
   "outputs": [
    {
     "data": {
      "text/plain": [
       "15"
      ]
     },
     "execution_count": 14,
     "metadata": {},
     "output_type": "execute_result"
    }
   ],
   "source": [
    "team.size"
   ]
  },
  {
   "cell_type": "markdown",
   "id": "b867f812",
   "metadata": {},
   "source": [
    "Total no. of Team: 15"
   ]
  },
  {
   "cell_type": "markdown",
   "id": "a0c7ed38",
   "metadata": {},
   "source": [
    "# Basic data Cleaning"
   ]
  },
  {
   "cell_type": "code",
   "execution_count": 15,
   "id": "fae92f38",
   "metadata": {},
   "outputs": [
    {
     "data": {
      "text/plain": [
       "14"
      ]
     },
     "execution_count": 15,
     "metadata": {},
     "output_type": "execute_result"
    }
   ],
   "source": [
    "deliveries_data=deliveries_data.replace(to_replace=\"Rising Pune Supergiant\",value=\"Rising Pune Supergiants\")\n",
    "match_data=match_data.replace(to_replace=\"Rising Pune Supergiant\",value=\"Rising Pune Supergiants\")\n",
    "team=np.union1d(deliveries_data[\"batting_team\"].unique(),deliveries_data[\"bowling_team\"].unique())\n",
    "team.size"
   ]
  },
  {
   "cell_type": "markdown",
   "id": "88cb27b2",
   "metadata": {},
   "source": [
    "After cleaning Total no. of Team: 14"
   ]
  },
  {
   "cell_type": "code",
   "execution_count": 16,
   "id": "c69dc7bd",
   "metadata": {
    "scrolled": true
   },
   "outputs": [
    {
     "data": {
      "text/plain": [
       "['ACA-VDCA Stadium',\n",
       " 'Barabati Stadium',\n",
       " 'Brabourne Stadium',\n",
       " 'Buffalo Park',\n",
       " 'De Beers Diamond Oval',\n",
       " 'Dr DY Patil Sports Academy',\n",
       " 'Dr. Y.S. Rajasekhara Reddy ACA-VDCA Cricket Stadium',\n",
       " 'Dubai International Cricket Stadium',\n",
       " 'Eden Gardens',\n",
       " 'Feroz Shah Kotla',\n",
       " 'Feroz Shah Kotla Ground',\n",
       " 'Green Park',\n",
       " 'Himachal Pradesh Cricket Association Stadium',\n",
       " 'Holkar Cricket Stadium',\n",
       " 'IS Bindra Stadium',\n",
       " 'JSCA International Stadium Complex',\n",
       " 'Kingsmead',\n",
       " 'M Chinnaswamy Stadium',\n",
       " 'M. A. Chidambaram Stadium',\n",
       " 'M. Chinnaswamy Stadium',\n",
       " 'MA Chidambaram Stadium, Chepauk',\n",
       " 'Maharashtra Cricket Association Stadium',\n",
       " 'Nehru Stadium',\n",
       " 'New Wanderers Stadium',\n",
       " 'Newlands',\n",
       " 'OUTsurance Oval',\n",
       " 'Punjab Cricket Association IS Bindra Stadium, Mohali',\n",
       " 'Punjab Cricket Association Stadium, Mohali',\n",
       " 'Rajiv Gandhi International Stadium, Uppal',\n",
       " 'Rajiv Gandhi Intl. Cricket Stadium',\n",
       " 'Sardar Patel Stadium, Motera',\n",
       " 'Saurashtra Cricket Association Stadium',\n",
       " 'Sawai Mansingh Stadium',\n",
       " 'Shaheed Veer Narayan Singh International Stadium',\n",
       " 'Sharjah Cricket Stadium',\n",
       " 'Sheikh Zayed Stadium',\n",
       " \"St George's Park\",\n",
       " 'Subrata Roy Sahara Stadium',\n",
       " 'SuperSport Park',\n",
       " 'Vidarbha Cricket Association Stadium, Jamtha',\n",
       " 'Wankhede Stadium']"
      ]
     },
     "execution_count": 16,
     "metadata": {},
     "output_type": "execute_result"
    }
   ],
   "source": [
    "sorted(match_data[\"venue\"].unique())"
   ]
  },
  {
   "cell_type": "markdown",
   "id": "5c1180e0",
   "metadata": {},
   "source": [
    "Spelling mistake in name of stadium"
   ]
  },
  {
   "cell_type": "code",
   "execution_count": 17,
   "id": "be6ea7f4",
   "metadata": {},
   "outputs": [
    {
     "data": {
      "text/plain": [
       "['ACA-VDCA Stadium',\n",
       " 'Barabati Stadium',\n",
       " 'Brabourne Stadium',\n",
       " 'Buffalo Park',\n",
       " 'De Beers Diamond Oval',\n",
       " 'Dr DY Patil Sports Academy',\n",
       " 'Dr. Y.S. Rajasekhara Reddy ACA-VDCA Cricket Stadium',\n",
       " 'Dubai International Cricket Stadium',\n",
       " 'Eden Gardens',\n",
       " 'Feroz Shah Kotla',\n",
       " 'Green Park',\n",
       " 'Himachal Pradesh Cricket Association Stadium',\n",
       " 'Holkar Cricket Stadium',\n",
       " 'JSCA International Stadium Complex',\n",
       " 'Kingsmead',\n",
       " 'M. Chinnaswamy Stadium',\n",
       " 'MA Chidambaram Stadium, Chepauk',\n",
       " 'Maharashtra Cricket Association Stadium',\n",
       " 'Nehru Stadium',\n",
       " 'New Wanderers Stadium',\n",
       " 'Newlands',\n",
       " 'OUTsurance Oval',\n",
       " 'Punjab Cricket Association Stadium, Mohali',\n",
       " 'Rajiv Gandhi Intl. Cricket Stadium',\n",
       " 'Sardar Patel Stadium, Motera',\n",
       " 'Saurashtra Cricket Association Stadium',\n",
       " 'Sawai Mansingh Stadium',\n",
       " 'Shaheed Veer Narayan Singh International Stadium',\n",
       " 'Sharjah Cricket Stadium',\n",
       " 'Sheikh Zayed Stadium',\n",
       " \"St George's Park\",\n",
       " 'Subrata Roy Sahara Stadium',\n",
       " 'SuperSport Park',\n",
       " 'Vidarbha Cricket Association Stadium, Jamtha',\n",
       " 'Wankhede Stadium']"
      ]
     },
     "execution_count": 17,
     "metadata": {},
     "output_type": "execute_result"
    }
   ],
   "source": [
    "match_data.replace({\"Feroz Shah Kotla Ground\":\"Feroz Shah Kotla\",\n",
    "                    \"M Chinnaswamy Stadium\":\"M. Chinnaswamy Stadium\",\n",
    "                    \"M. A. Chidambaram Stadium\":\"MA Chidambaram Stadium, Chepauk\",\n",
    "                    \"Punjab Cricket Association IS Bindra Stadium, Mohali\":\"Punjab Cricket Association Stadium, Mohali\",\n",
    "                    \"Rajiv Gandhi International Stadium, Uppal\":\"Rajiv Gandhi Intl. Cricket Stadium\",\n",
    "                    \"IS Bindra Stadium\":\"Punjab Cricket Association Stadium, Mohali\"},regex=True,inplace=True)\n",
    "sorted(match_data[\"venue\"].unique())"
   ]
  },
  {
   "cell_type": "code",
   "execution_count": 18,
   "id": "749da61e",
   "metadata": {},
   "outputs": [],
   "source": [
    "deliveries_data[\"dismissal_kind\"].fillna(\"not out\",inplace=True)\n",
    "deliveries_data[\"player_dismissed\"].fillna(\"not out\",inplace=True)\n",
    "deliveries_data[\"fielder\"].fillna(\"not out\",inplace=True)\n"
   ]
  },
  {
   "cell_type": "code",
   "execution_count": 19,
   "id": "695af5d9",
   "metadata": {},
   "outputs": [
    {
     "data": {
      "text/html": [
       "<div>\n",
       "<style scoped>\n",
       "    .dataframe tbody tr th:only-of-type {\n",
       "        vertical-align: middle;\n",
       "    }\n",
       "\n",
       "    .dataframe tbody tr th {\n",
       "        vertical-align: top;\n",
       "    }\n",
       "\n",
       "    .dataframe thead th {\n",
       "        text-align: right;\n",
       "    }\n",
       "</style>\n",
       "<table border=\"1\" class=\"dataframe\">\n",
       "  <thead>\n",
       "    <tr style=\"text-align: right;\">\n",
       "      <th></th>\n",
       "      <th>match_id</th>\n",
       "      <th>inning</th>\n",
       "      <th>batting_team</th>\n",
       "      <th>bowling_team</th>\n",
       "      <th>over</th>\n",
       "      <th>ball</th>\n",
       "      <th>batsman</th>\n",
       "      <th>non_striker</th>\n",
       "      <th>bowler</th>\n",
       "      <th>is_super_over</th>\n",
       "      <th>...</th>\n",
       "      <th>bye_runs</th>\n",
       "      <th>legbye_runs</th>\n",
       "      <th>noball_runs</th>\n",
       "      <th>penalty_runs</th>\n",
       "      <th>batsman_runs</th>\n",
       "      <th>extra_runs</th>\n",
       "      <th>total_runs</th>\n",
       "      <th>player_dismissed</th>\n",
       "      <th>dismissal_kind</th>\n",
       "      <th>fielder</th>\n",
       "    </tr>\n",
       "  </thead>\n",
       "  <tbody>\n",
       "    <tr>\n",
       "      <th>0</th>\n",
       "      <td>1</td>\n",
       "      <td>1</td>\n",
       "      <td>Sunrisers Hyderabad</td>\n",
       "      <td>Royal Challengers Bangalore</td>\n",
       "      <td>1</td>\n",
       "      <td>1</td>\n",
       "      <td>DA Warner</td>\n",
       "      <td>S Dhawan</td>\n",
       "      <td>TS Mills</td>\n",
       "      <td>0</td>\n",
       "      <td>...</td>\n",
       "      <td>0</td>\n",
       "      <td>0</td>\n",
       "      <td>0</td>\n",
       "      <td>0</td>\n",
       "      <td>0</td>\n",
       "      <td>0</td>\n",
       "      <td>0</td>\n",
       "      <td>not out</td>\n",
       "      <td>not out</td>\n",
       "      <td>not out</td>\n",
       "    </tr>\n",
       "    <tr>\n",
       "      <th>1</th>\n",
       "      <td>1</td>\n",
       "      <td>1</td>\n",
       "      <td>Sunrisers Hyderabad</td>\n",
       "      <td>Royal Challengers Bangalore</td>\n",
       "      <td>1</td>\n",
       "      <td>2</td>\n",
       "      <td>DA Warner</td>\n",
       "      <td>S Dhawan</td>\n",
       "      <td>TS Mills</td>\n",
       "      <td>0</td>\n",
       "      <td>...</td>\n",
       "      <td>0</td>\n",
       "      <td>0</td>\n",
       "      <td>0</td>\n",
       "      <td>0</td>\n",
       "      <td>0</td>\n",
       "      <td>0</td>\n",
       "      <td>0</td>\n",
       "      <td>not out</td>\n",
       "      <td>not out</td>\n",
       "      <td>not out</td>\n",
       "    </tr>\n",
       "    <tr>\n",
       "      <th>2</th>\n",
       "      <td>1</td>\n",
       "      <td>1</td>\n",
       "      <td>Sunrisers Hyderabad</td>\n",
       "      <td>Royal Challengers Bangalore</td>\n",
       "      <td>1</td>\n",
       "      <td>3</td>\n",
       "      <td>DA Warner</td>\n",
       "      <td>S Dhawan</td>\n",
       "      <td>TS Mills</td>\n",
       "      <td>0</td>\n",
       "      <td>...</td>\n",
       "      <td>0</td>\n",
       "      <td>0</td>\n",
       "      <td>0</td>\n",
       "      <td>0</td>\n",
       "      <td>4</td>\n",
       "      <td>0</td>\n",
       "      <td>4</td>\n",
       "      <td>not out</td>\n",
       "      <td>not out</td>\n",
       "      <td>not out</td>\n",
       "    </tr>\n",
       "    <tr>\n",
       "      <th>3</th>\n",
       "      <td>1</td>\n",
       "      <td>1</td>\n",
       "      <td>Sunrisers Hyderabad</td>\n",
       "      <td>Royal Challengers Bangalore</td>\n",
       "      <td>1</td>\n",
       "      <td>4</td>\n",
       "      <td>DA Warner</td>\n",
       "      <td>S Dhawan</td>\n",
       "      <td>TS Mills</td>\n",
       "      <td>0</td>\n",
       "      <td>...</td>\n",
       "      <td>0</td>\n",
       "      <td>0</td>\n",
       "      <td>0</td>\n",
       "      <td>0</td>\n",
       "      <td>0</td>\n",
       "      <td>0</td>\n",
       "      <td>0</td>\n",
       "      <td>not out</td>\n",
       "      <td>not out</td>\n",
       "      <td>not out</td>\n",
       "    </tr>\n",
       "    <tr>\n",
       "      <th>4</th>\n",
       "      <td>1</td>\n",
       "      <td>1</td>\n",
       "      <td>Sunrisers Hyderabad</td>\n",
       "      <td>Royal Challengers Bangalore</td>\n",
       "      <td>1</td>\n",
       "      <td>5</td>\n",
       "      <td>DA Warner</td>\n",
       "      <td>S Dhawan</td>\n",
       "      <td>TS Mills</td>\n",
       "      <td>0</td>\n",
       "      <td>...</td>\n",
       "      <td>0</td>\n",
       "      <td>0</td>\n",
       "      <td>0</td>\n",
       "      <td>0</td>\n",
       "      <td>0</td>\n",
       "      <td>2</td>\n",
       "      <td>2</td>\n",
       "      <td>not out</td>\n",
       "      <td>not out</td>\n",
       "      <td>not out</td>\n",
       "    </tr>\n",
       "  </tbody>\n",
       "</table>\n",
       "<p>5 rows × 21 columns</p>\n",
       "</div>"
      ],
      "text/plain": [
       "   match_id  inning         batting_team                 bowling_team  over  \\\n",
       "0         1       1  Sunrisers Hyderabad  Royal Challengers Bangalore     1   \n",
       "1         1       1  Sunrisers Hyderabad  Royal Challengers Bangalore     1   \n",
       "2         1       1  Sunrisers Hyderabad  Royal Challengers Bangalore     1   \n",
       "3         1       1  Sunrisers Hyderabad  Royal Challengers Bangalore     1   \n",
       "4         1       1  Sunrisers Hyderabad  Royal Challengers Bangalore     1   \n",
       "\n",
       "   ball    batsman non_striker    bowler  is_super_over  ...  bye_runs  \\\n",
       "0     1  DA Warner    S Dhawan  TS Mills              0  ...         0   \n",
       "1     2  DA Warner    S Dhawan  TS Mills              0  ...         0   \n",
       "2     3  DA Warner    S Dhawan  TS Mills              0  ...         0   \n",
       "3     4  DA Warner    S Dhawan  TS Mills              0  ...         0   \n",
       "4     5  DA Warner    S Dhawan  TS Mills              0  ...         0   \n",
       "\n",
       "   legbye_runs  noball_runs  penalty_runs  batsman_runs  extra_runs  \\\n",
       "0            0            0             0             0           0   \n",
       "1            0            0             0             0           0   \n",
       "2            0            0             0             4           0   \n",
       "3            0            0             0             0           0   \n",
       "4            0            0             0             0           2   \n",
       "\n",
       "   total_runs  player_dismissed dismissal_kind  fielder  \n",
       "0           0           not out        not out  not out  \n",
       "1           0           not out        not out  not out  \n",
       "2           4           not out        not out  not out  \n",
       "3           0           not out        not out  not out  \n",
       "4           2           not out        not out  not out  \n",
       "\n",
       "[5 rows x 21 columns]"
      ]
     },
     "execution_count": 19,
     "metadata": {},
     "output_type": "execute_result"
    }
   ],
   "source": [
    "deliveries_data.head(5)"
   ]
  },
  {
   "cell_type": "markdown",
   "id": "5340ce12",
   "metadata": {},
   "source": [
    "# No of matches played each season "
   ]
  },
  {
   "cell_type": "code",
   "execution_count": 20,
   "id": "db82eb61",
   "metadata": {},
   "outputs": [
    {
     "data": {
      "image/png": "[encoded data removed]",
      "text/plain": [
       "<Figure size 432x288 with 1 Axes>"
      ]
     },
     "metadata": {
      "needs_background": "light"
     },
     "output_type": "display_data"
    }
   ],
   "source": [
    "sns.countplot(x=\"season\",data=match_data)\n",
    "plt.title(\"Number of match played each season\")\n",
    "plt.xlabel(\"season\")\n",
    "plt.ylabel(\"number of matches\")\n",
    "plt.show()"
   ]
  },
  {
   "cell_type": "markdown",
   "id": "6175e6cb",
   "metadata": {},
   "source": [
    "Maximum number of match played in 2013 "
   ]
  },
  {
   "cell_type": "markdown",
   "id": "c935dbe5",
   "metadata": {},
   "source": [
    "# No of match played in each ground"
   ]
  },
  {
   "cell_type": "code",
   "execution_count": 22,
   "id": "0b4937d1",
   "metadata": {},
   "outputs": [
    {
     "data": {
      "image/png": "[encoded data removed]",
      "text/plain": [
       "<Figure size 432x288 with 1 Axes>"
      ]
     },
     "metadata": {
      "needs_background": "light"
     },
     "output_type": "display_data"
    }
   ],
   "source": [
    "sns.countplot(x=\"venue\",data=match_data,order=match_data[\"venue\"].value_counts().index)\n",
    "plt.title(\"venue vs no of ipl matches\")\n",
    "plt.xlabel(\"venue\")\n",
    "plt.xticks(rotation=90)\n",
    "plt.ylabel(\"No. of matches\")\n",
    "plt.show()"
   ]
  },
  {
   "cell_type": "markdown",
   "id": "85ee147a",
   "metadata": {},
   "source": [
    "most no of matches is played in M. Chinnaswamy Stadium followed by Eden Gardens\n"
   ]
  },
  {
   "cell_type": "markdown",
   "id": "44ac9524",
   "metadata": {},
   "source": [
    "# Winners of IPL each Season"
   ]
  },
  {
   "cell_type": "code",
   "execution_count": 23,
   "id": "93ef05dd",
   "metadata": {},
   "outputs": [
    {
     "name": "stdout",
     "output_type": "stream",
     "text": [
      "                winner team\n",
      "2008       Rajasthan Royals\n",
      "2009        Deccan Chargers\n",
      "2010    Chennai Super Kings\n",
      "2011    Chennai Super Kings\n",
      "2012  Kolkata Knight Riders\n",
      "2013         Mumbai Indians\n",
      "2014  Kolkata Knight Riders\n",
      "2015         Mumbai Indians\n",
      "2016    Sunrisers Hyderabad\n",
      "2017         Mumbai Indians\n",
      "2018    Chennai Super Kings\n",
      "2019         Mumbai Indians\n"
     ]
    }
   ],
   "source": [
    "\n",
    "winning_teams=match_data[[\"season\",\"winner\"]]\n",
    "winner_team={}\n",
    "for i in sorted(winning_teams.season.unique()):\n",
    "    winner_team[i]=winning_teams[winning_teams.season==i][\"winner\"].tail(1).values[0]\n",
    "winner_ipl=pd.Series(winner_team)\n",
    "winner_ipl=pd.DataFrame(winner_ipl,columns=[\"winner team\"])\n",
    "print(winner_ipl)\n"
   ]
  },
  {
   "cell_type": "markdown",
   "id": "347a89b1",
   "metadata": {},
   "source": [
    "# Most Successful team in IPL"
   ]
  },
  {
   "cell_type": "code",
   "execution_count": 24,
   "id": "f027bc89",
   "metadata": {},
   "outputs": [
    {
     "data": {
      "image/png": "[encoded data removed]",
      "text/plain": [
       "<Figure size 432x288 with 1 Axes>"
      ]
     },
     "metadata": {
      "needs_background": "light"
     },
     "output_type": "display_data"
    }
   ],
   "source": [
    "#most successful team\n",
    "winner_ipl[\"winner team\"].value_counts().plot(kind=\"bar\")\n",
    "plt.title(\"winner of ipl\")\n",
    "plt.xlabel(\"Team\")\n",
    "plt.ylabel(\"Number of season\")\n",
    "plt.show()"
   ]
  },
  {
   "cell_type": "markdown",
   "id": "4c044927",
   "metadata": {},
   "source": [
    "Most successful team in IPL is Mumbai indians as it has won ipl 4 times till 2019"
   ]
  },
  {
   "cell_type": "markdown",
   "id": "f0a760ed",
   "metadata": {},
   "source": [
    "# Teams reached in final maximum times"
   ]
  },
  {
   "cell_type": "code",
   "execution_count": 25,
   "id": "b400ad87",
   "metadata": {},
   "outputs": [
    {
     "data": {
      "image/png": "[encoded data removed]",
      "text/plain": [
       "<Figure size 432x288 with 1 Axes>"
      ]
     },
     "metadata": {
      "needs_background": "light"
     },
     "output_type": "display_data"
    }
   ],
   "source": [
    "\n",
    "winning_teams=match_data[[\"season\",\"team1\",\"team2\"]]\n",
    "finalist={}\n",
    "for i in match_data[\"team1\"].unique():\n",
    "    finalist[i]=0\n",
    "for i in sorted(winning_teams.season.unique()):\n",
    "    finalist[winning_teams[winning_teams.season==i][\"team1\"].tail(1).values[0]]+=1\n",
    "    finalist[winning_teams[winning_teams.season==i][\"team2\"].tail(1).values[0]]+=1\n",
    "finalist=pd.Series(finalist)\n",
    "finalist=pd.DataFrame(finalist,columns=[\"No. of times reached in final\"])\n",
    "#print(finalist)\n",
    "finalist[\"No. of times reached in final\"].plot(kind=\"bar\")\n",
    "plt.title(\"Finalist\")\n",
    "plt.xlabel(\"Teams\")\n",
    "plt.ylabel(\"Number of times reached in finals\")\n",
    "plt.show()"
   ]
  },
  {
   "cell_type": "markdown",
   "id": "c1ea8537",
   "metadata": {},
   "source": [
    "Chennai super Kings has reached in final 8 times ."
   ]
  },
  {
   "cell_type": "markdown",
   "id": "8376b881",
   "metadata": {},
   "source": [
    "# Teams won maximum no of matches"
   ]
  },
  {
   "cell_type": "code",
   "execution_count": 119,
   "id": "9b0717bb",
   "metadata": {},
   "outputs": [
    {
     "data": {
      "text/html": [
       "<div>\n",
       "<style scoped>\n",
       "    .dataframe tbody tr th:only-of-type {\n",
       "        vertical-align: middle;\n",
       "    }\n",
       "\n",
       "    .dataframe tbody tr th {\n",
       "        vertical-align: top;\n",
       "    }\n",
       "\n",
       "    .dataframe thead th {\n",
       "        text-align: right;\n",
       "    }\n",
       "</style>\n",
       "<table border=\"1\" class=\"dataframe\">\n",
       "  <thead>\n",
       "    <tr style=\"text-align: right;\">\n",
       "      <th></th>\n",
       "      <th>No. of match played</th>\n",
       "      <th>won</th>\n",
       "      <th>Win percentage</th>\n",
       "    </tr>\n",
       "  </thead>\n",
       "  <tbody>\n",
       "    <tr>\n",
       "      <th>Chennai Super Kings</th>\n",
       "      <td>164</td>\n",
       "      <td>100</td>\n",
       "      <td>60.975610</td>\n",
       "    </tr>\n",
       "    <tr>\n",
       "      <th>Deccan Chargers</th>\n",
       "      <td>75</td>\n",
       "      <td>29</td>\n",
       "      <td>38.666667</td>\n",
       "    </tr>\n",
       "    <tr>\n",
       "      <th>Delhi Capitals</th>\n",
       "      <td>16</td>\n",
       "      <td>10</td>\n",
       "      <td>62.500000</td>\n",
       "    </tr>\n",
       "    <tr>\n",
       "      <th>Delhi Daredevils</th>\n",
       "      <td>161</td>\n",
       "      <td>67</td>\n",
       "      <td>41.614907</td>\n",
       "    </tr>\n",
       "    <tr>\n",
       "      <th>Gujarat Lions</th>\n",
       "      <td>30</td>\n",
       "      <td>13</td>\n",
       "      <td>43.333333</td>\n",
       "    </tr>\n",
       "    <tr>\n",
       "      <th>Kings XI Punjab</th>\n",
       "      <td>176</td>\n",
       "      <td>82</td>\n",
       "      <td>46.590909</td>\n",
       "    </tr>\n",
       "    <tr>\n",
       "      <th>Kochi Tuskers Kerala</th>\n",
       "      <td>14</td>\n",
       "      <td>6</td>\n",
       "      <td>42.857143</td>\n",
       "    </tr>\n",
       "    <tr>\n",
       "      <th>Kolkata Knight Riders</th>\n",
       "      <td>178</td>\n",
       "      <td>92</td>\n",
       "      <td>51.685393</td>\n",
       "    </tr>\n",
       "    <tr>\n",
       "      <th>Mumbai Indians</th>\n",
       "      <td>187</td>\n",
       "      <td>109</td>\n",
       "      <td>58.288770</td>\n",
       "    </tr>\n",
       "    <tr>\n",
       "      <th>Pune Warriors</th>\n",
       "      <td>46</td>\n",
       "      <td>12</td>\n",
       "      <td>26.086957</td>\n",
       "    </tr>\n",
       "    <tr>\n",
       "      <th>Rajasthan Royals</th>\n",
       "      <td>147</td>\n",
       "      <td>75</td>\n",
       "      <td>51.020408</td>\n",
       "    </tr>\n",
       "    <tr>\n",
       "      <th>Rising Pune Supergiants</th>\n",
       "      <td>30</td>\n",
       "      <td>15</td>\n",
       "      <td>50.000000</td>\n",
       "    </tr>\n",
       "    <tr>\n",
       "      <th>Royal Challengers Bangalore</th>\n",
       "      <td>180</td>\n",
       "      <td>84</td>\n",
       "      <td>46.666667</td>\n",
       "    </tr>\n",
       "    <tr>\n",
       "      <th>Sunrisers Hyderabad</th>\n",
       "      <td>108</td>\n",
       "      <td>58</td>\n",
       "      <td>53.703704</td>\n",
       "    </tr>\n",
       "  </tbody>\n",
       "</table>\n",
       "</div>"
      ],
      "text/plain": [
       "                             No. of match played  won  Win percentage\n",
       "Chennai Super Kings                          164  100       60.975610\n",
       "Deccan Chargers                               75   29       38.666667\n",
       "Delhi Capitals                                16   10       62.500000\n",
       "Delhi Daredevils                             161   67       41.614907\n",
       "Gujarat Lions                                 30   13       43.333333\n",
       "Kings XI Punjab                              176   82       46.590909\n",
       "Kochi Tuskers Kerala                          14    6       42.857143\n",
       "Kolkata Knight Riders                        178   92       51.685393\n",
       "Mumbai Indians                               187  109       58.288770\n",
       "Pune Warriors                                 46   12       26.086957\n",
       "Rajasthan Royals                             147   75       51.020408\n",
       "Rising Pune Supergiants                       30   15       50.000000\n",
       "Royal Challengers Bangalore                  180   84       46.666667\n",
       "Sunrisers Hyderabad                          108   58       53.703704"
      ]
     },
     "execution_count": 119,
     "metadata": {},
     "output_type": "execute_result"
    }
   ],
   "source": [
    "match_played=match_data[\"team1\"].value_counts()+match_data[\"team2\"].value_counts()\n",
    "match_played=pd.DataFrame(match_played,columns=[\"No. of match played\"])\n",
    "match_played[\"won\"]=match_data[\"winner\"].value_counts()\n",
    "match_played[\"Win percentage\"]=match_played[\"won\"]/match_played[\"No. of match played\"] *100\n",
    "match_played"
   ]
  },
  {
   "cell_type": "markdown",
   "id": "c48f8788",
   "metadata": {},
   "source": [
    "Mumbai Indians have won maximum number of match but Channai Super Kings has High win percentage.\n",
    "We have not consider Delhi Capitals as they have played very less match"
   ]
  },
  {
   "cell_type": "code",
   "execution_count": 27,
   "id": "019833b0",
   "metadata": {},
   "outputs": [
    {
     "data": {
      "image/png": "[encoded data removed]",
      "text/plain": [
       "<Figure size 432x288 with 1 Axes>"
      ]
     },
     "metadata": {
      "needs_background": "light"
     },
     "output_type": "display_data"
    }
   ],
   "source": [
    "w=0.3\n",
    "bar1=np.arange(len(match_played.index))\n",
    "bar2=[i+w for i in bar1]\n",
    "plt.bar(bar1,match_played[\"No. of match played\"],w,label=\"No. of matches played\")\n",
    "plt.bar(bar2,match_played[\"won\"],w,label=\"No. of matches won\")\n",
    "plt.title(\"No of matches played vs No. of matches Won\")\n",
    "plt.xticks(bar1+w/2,match_played.index,rotation=90)\n",
    "plt.xlabel(\"Teams\")\n",
    "plt.ylabel(\"No. of matches\")\n",
    "plt.legend()\n",
    "plt.show()"
   ]
  },
  {
   "cell_type": "markdown",
   "id": "ae153c49",
   "metadata": {},
   "source": [
    "Mumbai Indians have won most no of  matches.\n",
    "Mumbai Indians have played most no of matches."
   ]
  },
  {
   "cell_type": "markdown",
   "id": "6c63d157",
   "metadata": {},
   "source": [
    "# Team won by maximum no of runs"
   ]
  },
  {
   "cell_type": "code",
   "execution_count": 28,
   "id": "1a9e8288",
   "metadata": {},
   "outputs": [
    {
     "data": {
      "text/plain": [
       "id                               44\n",
       "season                         2017\n",
       "city                          Delhi\n",
       "date                     2017-05-06\n",
       "team1                Mumbai Indians\n",
       "team2              Delhi Daredevils\n",
       "toss_winner        Delhi Daredevils\n",
       "toss_decision                 field\n",
       "result                       normal\n",
       "dl_applied                        0\n",
       "winner               Mumbai Indians\n",
       "win_by_runs                     146\n",
       "win_by_wickets                    0\n",
       "player_of_match         LMP Simmons\n",
       "venue              Feroz Shah Kotla\n",
       "umpire1                 Nitin Menon\n",
       "umpire2                   CK Nandan\n",
       "umpire3                         NaN\n",
       "Name: 43, dtype: object"
      ]
     },
     "execution_count": 28,
     "metadata": {},
     "output_type": "execute_result"
    }
   ],
   "source": [
    "match_data.iloc[match_data[\"win_by_runs\"].idxmax()]"
   ]
  },
  {
   "cell_type": "markdown",
   "id": "6f9dbc6b",
   "metadata": {},
   "source": [
    "Mumbai indians have won the match with maximum 146 runs against Delhi Daredevils in 2017 at Feroz shah kotla."
   ]
  },
  {
   "cell_type": "markdown",
   "id": "5d4a8045",
   "metadata": {},
   "source": [
    "# Toss  decision affecting the match"
   ]
  },
  {
   "cell_type": "code",
   "execution_count": 29,
   "id": "35293f36",
   "metadata": {},
   "outputs": [
    {
     "data": {
      "image/png": "[encoded data removed]",
      "text/plain": [
       "<Figure size 432x288 with 1 Axes>"
      ]
     },
     "metadata": {},
     "output_type": "display_data"
    }
   ],
   "source": [
    "match_data[\"toss_decision\"].value_counts().plot(kind=\"pie\",autopct=\"%1.1f%%\")\n",
    "plt.legend()\n",
    "plt.show()"
   ]
  },
  {
   "cell_type": "markdown",
   "id": "78d4fa9c",
   "metadata": {},
   "source": [
    "After winning the toss most captain choose to field."
   ]
  },
  {
   "cell_type": "code",
   "execution_count": 30,
   "id": "c7f4e562",
   "metadata": {},
   "outputs": [
    {
     "data": {
      "image/png": "[encoded data removed]",
      "text/plain": [
       "<Figure size 432x288 with 1 Axes>"
      ]
     },
     "metadata": {},
     "output_type": "display_data"
    }
   ],
   "source": [
    "toss=match_data[[\"season\",\"toss_decision\"]]\n",
    "toss_decision={}\n",
    "for i in sorted(toss.season.unique()):\n",
    "    toss_decision[i]=toss[toss.season==i][\"toss_decision\"].tail(1).values[0]\n",
    "toss_decision=pd.Series(toss_decision)\n",
    "toss_decision=pd.DataFrame(toss_decision,columns=[\"toss_decision\"])\n",
    "toss_decision[\"toss_decision\"].value_counts().plot(kind=\"pie\",autopct=\"%1.1f%%\")\n",
    "plt.legend()\n",
    "plt.show()"
   ]
  },
  {
   "cell_type": "markdown",
   "id": "fa6a7779",
   "metadata": {},
   "source": [
    "In finals most no of  teams choose to bat first"
   ]
  },
  {
   "cell_type": "code",
   "execution_count": 31,
   "id": "ce9cbe93",
   "metadata": {
    "scrolled": true
   },
   "outputs": [
    {
     "data": {
      "image/png": "[encoded data removed]",
      "text/plain": [
       "<Figure size 432x288 with 1 Axes>"
      ]
     },
     "metadata": {
      "needs_background": "light"
     },
     "output_type": "display_data"
    }
   ],
   "source": [
    "match_data[\"toss_match_win\"]=np.where(match_data[\"toss_winner\"]==match_data[\"winner\"],\"yes\",\"no\")\n",
    "sns.countplot(x=\"toss_match_win\",data=match_data,hue=\"toss_decision\")\n",
    "plt.xlabel(\"Toss win Match win\")\n",
    "plt.ylabel(\"no. of matches\")\n",
    "plt.show()"
   ]
  },
  {
   "cell_type": "markdown",
   "id": "f550f424",
   "metadata": {},
   "source": [
    "# Toss Decision and match result"
   ]
  },
  {
   "cell_type": "code",
   "execution_count": 32,
   "id": "a4e5c515",
   "metadata": {},
   "outputs": [
    {
     "data": {
      "image/png": "[encoded data removed]",
      "text/plain": [
       "<Figure size 432x288 with 1 Axes>"
      ]
     },
     "metadata": {},
     "output_type": "display_data"
    }
   ],
   "source": [
    "toss=match_data[[\"season\",\"toss_match_win\"]]\n",
    "toss_win={}\n",
    "for i in sorted(toss.season.unique()):\n",
    "    toss_win[i]=toss[toss.season==i][\"toss_match_win\"].tail(1).values[0]\n",
    "toss_win=pd.Series(toss_win)\n",
    "toss_win=pd.DataFrame(toss_win,columns=[\"Toss Win Match Win\"])\n",
    "toss_win[\"Toss Win Match Win\"].value_counts().plot(kind=\"pie\",autopct=\"%1.1f%%\")\n",
    "plt.legend()\n",
    "plt.show()"
   ]
  },
  {
   "cell_type": "markdown",
   "id": "013f1549",
   "metadata": {},
   "source": [
    "In finals there is high probability of wining the match if the team has won the toss."
   ]
  },
  {
   "cell_type": "code",
   "execution_count": 33,
   "id": "f1ed9bce",
   "metadata": {},
   "outputs": [
    {
     "data": {
      "text/plain": [
       "team1                        toss_match_win\n",
       "Chennai Super Kings          yes               50\n",
       "                             no                39\n",
       "Deccan Chargers              yes               23\n",
       "                             no                20\n",
       "Delhi Capitals               no                 3\n",
       "                             yes                3\n",
       "Delhi Daredevils             yes               39\n",
       "                             no                33\n",
       "Gujarat Lions                yes               12\n",
       "                             no                 2\n",
       "Kings XI Punjab              no                52\n",
       "                             yes               39\n",
       "Kochi Tuskers Kerala         no                 5\n",
       "                             yes                2\n",
       "Kolkata Knight Riders        yes               49\n",
       "                             no                34\n",
       "Mumbai Indians               no                52\n",
       "                             yes               49\n",
       "Pune Warriors                no                11\n",
       "                             yes                9\n",
       "Rajasthan Royals             yes               36\n",
       "                             no                31\n",
       "Rising Pune Supergiants      no                 8\n",
       "                             yes                7\n",
       "Royal Challengers Bangalore  yes               46\n",
       "                             no                39\n",
       "Sunrisers Hyderabad          no                34\n",
       "                             yes               29\n",
       "Name: toss_match_win, dtype: int64"
      ]
     },
     "execution_count": 33,
     "metadata": {},
     "output_type": "execute_result"
    }
   ],
   "source": [
    "match_data.groupby(\"team1\")[\"toss_match_win\"].value_counts()"
   ]
  },
  {
   "cell_type": "markdown",
   "id": "af182f19",
   "metadata": {},
   "source": [
    "Chennai super kings have won most matches afer winning the toss."
   ]
  },
  {
   "cell_type": "markdown",
   "id": "e5dd1ff2",
   "metadata": {},
   "source": [
    "# Toss Decision after wining the toss"
   ]
  },
  {
   "cell_type": "code",
   "execution_count": 34,
   "id": "b3898b40",
   "metadata": {},
   "outputs": [
    {
     "data": {
      "image/png": "[encoded data removed]",
      "text/plain": [
       "<Figure size 432x288 with 1 Axes>"
      ]
     },
     "metadata": {
      "needs_background": "light"
     },
     "output_type": "display_data"
    }
   ],
   "source": [
    "sns.countplot(x=\"toss_winner\",data=match_data,hue=\"toss_decision\")\n",
    "plt.title(\"Toss decision after winning toss\")\n",
    "plt.xlabel(\"teams\")\n",
    "plt.xticks(rotation=90)\n",
    "plt.ylabel(\"frequency\")\n",
    "plt.show()"
   ]
  },
  {
   "cell_type": "markdown",
   "id": "f36e926c",
   "metadata": {},
   "source": [
    "Most of the team chooses to field after winning the toss except CSK,Deccan Chargers,pune Warriors"
   ]
  },
  {
   "cell_type": "markdown",
   "id": "7e82e523",
   "metadata": {},
   "source": [
    "# Player having won player of the match award maximum no. of times"
   ]
  },
  {
   "cell_type": "code",
   "execution_count": 35,
   "id": "1d4f078f",
   "metadata": {},
   "outputs": [
    {
     "data": {
      "text/plain": [
       "<AxesSubplot:>"
      ]
     },
     "execution_count": 35,
     "metadata": {},
     "output_type": "execute_result"
    },
    {
     "data": {
      "image/png": "[encoded data removed]",
      "text/plain": [
       "<Figure size 432x288 with 1 Axes>"
      ]
     },
     "metadata": {
      "needs_background": "light"
     },
     "output_type": "display_data"
    }
   ],
   "source": [
    "match_data[\"player_of_match\"].value_counts()[:10].plot(kind=\"bar\")"
   ]
  },
  {
   "cell_type": "markdown",
   "id": "ef0fb6bf",
   "metadata": {},
   "source": [
    "Ch Gayle has won most number of player of match followed by AB de Villiers and DA Warner\n"
   ]
  },
  {
   "cell_type": "markdown",
   "id": "93def43d",
   "metadata": {},
   "source": [
    "# Teams having won the toss maximum no. of times "
   ]
  },
  {
   "cell_type": "code",
   "execution_count": 36,
   "id": "b5b03b97",
   "metadata": {},
   "outputs": [
    {
     "data": {
      "text/plain": [
       "<AxesSubplot:>"
      ]
     },
     "execution_count": 36,
     "metadata": {},
     "output_type": "execute_result"
    },
    {
     "data": {
      "image/png": "[encoded data removed]",
      "text/plain": [
       "<Figure size 432x288 with 1 Axes>"
      ]
     },
     "metadata": {
      "needs_background": "light"
     },
     "output_type": "display_data"
    }
   ],
   "source": [
    "match_data[\"toss_winner\"].value_counts().plot(kind=\"bar\")"
   ]
  },
  {
   "cell_type": "markdown",
   "id": "f3ed9e01",
   "metadata": {},
   "source": [
    "Mumbai Indians have won most no of tosses."
   ]
  },
  {
   "cell_type": "markdown",
   "id": "6456c0fb",
   "metadata": {},
   "source": [
    "# Umpire having done umpiring in most no. of matches"
   ]
  },
  {
   "cell_type": "code",
   "execution_count": 146,
   "id": "f129e297",
   "metadata": {},
   "outputs": [
    {
     "data": {
      "text/plain": [
       "HDPK Dharmasena    146\n",
       "Asad Rauf          102\n",
       "S Ravi              98\n",
       "AK Chaudhary        86\n",
       "Aleem Dar           76\n",
       "BF Bowden           74\n",
       "BR Doctrove         68\n",
       "M Erasmus           64\n",
       "Nitin Menon         40\n",
       "RE Koertzen         40\n",
       "Name: umpire1, dtype: int64"
      ]
     },
     "execution_count": 146,
     "metadata": {},
     "output_type": "execute_result"
    }
   ],
   "source": [
    "\n",
    "umpire=match_data[\"umpire1\"].value_counts()+match_data[\"umpire1\"].value_counts()\n",
    "umpire[:10]"
   ]
  },
  {
   "cell_type": "markdown",
   "id": "ed4fdba9",
   "metadata": {},
   "source": [
    "HDPK Dharmsena has  done umpiring in most no of matches in ground."
   ]
  },
  {
   "cell_type": "markdown",
   "id": "35cdbe3f",
   "metadata": {},
   "source": [
    "# Maximum no. of wins in a city"
   ]
  },
  {
   "cell_type": "code",
   "execution_count": 149,
   "id": "08afdace",
   "metadata": {},
   "outputs": [
    {
     "data": {
      "text/plain": [
       "winner                       city      \n",
       "Mumbai Indians               Mumbai        53\n",
       "Kolkata Knight Riders        Kolkata       45\n",
       "Chennai Super Kings          Chennai       40\n",
       "Rajasthan Royals             Jaipur        32\n",
       "Royal Challengers Bangalore  Bangalore     30\n",
       "Sunrisers Hyderabad          Hyderabad     30\n",
       "Delhi Daredevils             Delhi         27\n",
       "Kings XI Punjab              Chandigarh    22\n",
       "Chennai Super Kings          Mumbai        11\n",
       "Mumbai Indians               Kolkata       10\n",
       "Name: city, dtype: int64"
      ]
     },
     "execution_count": 149,
     "metadata": {},
     "output_type": "execute_result"
    }
   ],
   "source": [
    "match_data.groupby(by=[\"winner\"])[\"city\"].value_counts().sort_values(ascending=False).head(10)"
   ]
  },
  {
   "cell_type": "markdown",
   "id": "4e52a743",
   "metadata": {},
   "source": [
    "Most no of win by ipl teams in cities"
   ]
  },
  {
   "cell_type": "markdown",
   "id": "f936b05a",
   "metadata": {},
   "source": [
    "# Match Affected in stadiums"
   ]
  },
  {
   "cell_type": "code",
   "execution_count": 39,
   "id": "f2514c5b",
   "metadata": {},
   "outputs": [
    {
     "data": {
      "text/plain": [
       "Eden Gardens                                           4\n",
       "Feroz Shah Kotla                                       3\n",
       "M. Chinnaswamy Stadium                                 3\n",
       "Rajiv Gandhi Intl. Cricket Stadium                     2\n",
       "Dr. Y.S. Rajasekhara Reddy ACA-VDCA Cricket Stadium    2\n",
       "Sawai Mansingh Stadium                                 1\n",
       "Newlands                                               1\n",
       "Kingsmead                                              1\n",
       "Nehru Stadium                                          1\n",
       "SuperSport Park                                        1\n",
       "Name: venue, dtype: int64"
      ]
     },
     "execution_count": 39,
     "metadata": {},
     "output_type": "execute_result"
    }
   ],
   "source": [
    "match_data[match_data[\"dl_applied\"]!=0][\"venue\"].value_counts()"
   ]
  },
  {
   "cell_type": "markdown",
   "id": "48cb2ee7",
   "metadata": {},
   "source": [
    "The match was affeted at Eden Gardens most of the time"
   ]
  },
  {
   "cell_type": "markdown",
   "id": "034b2e42",
   "metadata": {},
   "source": [
    "#  Information about 2nd data set"
   ]
  },
  {
   "cell_type": "code",
   "execution_count": 40,
   "id": "8cd45257",
   "metadata": {},
   "outputs": [
    {
     "name": "stdout",
     "output_type": "stream",
     "text": [
      "<class 'pandas.core.frame.DataFrame'>\n",
      "RangeIndex: 179078 entries, 0 to 179077\n",
      "Data columns (total 21 columns):\n",
      " #   Column            Non-Null Count   Dtype \n",
      "---  ------            --------------   ----- \n",
      " 0   match_id          179078 non-null  int64 \n",
      " 1   inning            179078 non-null  int64 \n",
      " 2   batting_team      179078 non-null  object\n",
      " 3   bowling_team      179078 non-null  object\n",
      " 4   over              179078 non-null  int64 \n",
      " 5   ball              179078 non-null  int64 \n",
      " 6   batsman           179078 non-null  object\n",
      " 7   non_striker       179078 non-null  object\n",
      " 8   bowler            179078 non-null  object\n",
      " 9   is_super_over     179078 non-null  int64 \n",
      " 10  wide_runs         179078 non-null  int64 \n",
      " 11  bye_runs          179078 non-null  int64 \n",
      " 12  legbye_runs       179078 non-null  int64 \n",
      " 13  noball_runs       179078 non-null  int64 \n",
      " 14  penalty_runs      179078 non-null  int64 \n",
      " 15  batsman_runs      179078 non-null  int64 \n",
      " 16  extra_runs        179078 non-null  int64 \n",
      " 17  total_runs        179078 non-null  int64 \n",
      " 18  player_dismissed  179078 non-null  object\n",
      " 19  dismissal_kind    179078 non-null  object\n",
      " 20  fielder           179078 non-null  object\n",
      "dtypes: int64(13), object(8)\n",
      "memory usage: 28.7+ MB\n"
     ]
    }
   ],
   "source": [
    "deliveries_data.info()"
   ]
  },
  {
   "cell_type": "code",
   "execution_count": 41,
   "id": "c518dc11",
   "metadata": {},
   "outputs": [
    {
     "data": {
      "text/html": [
       "<div>\n",
       "<style scoped>\n",
       "    .dataframe tbody tr th:only-of-type {\n",
       "        vertical-align: middle;\n",
       "    }\n",
       "\n",
       "    .dataframe tbody tr th {\n",
       "        vertical-align: top;\n",
       "    }\n",
       "\n",
       "    .dataframe thead th {\n",
       "        text-align: right;\n",
       "    }\n",
       "</style>\n",
       "<table border=\"1\" class=\"dataframe\">\n",
       "  <thead>\n",
       "    <tr style=\"text-align: right;\">\n",
       "      <th></th>\n",
       "      <th>match_id</th>\n",
       "      <th>inning</th>\n",
       "      <th>batting_team</th>\n",
       "      <th>bowling_team</th>\n",
       "      <th>over</th>\n",
       "      <th>ball</th>\n",
       "      <th>batsman</th>\n",
       "      <th>non_striker</th>\n",
       "      <th>bowler</th>\n",
       "      <th>is_super_over</th>\n",
       "      <th>...</th>\n",
       "      <th>bye_runs</th>\n",
       "      <th>legbye_runs</th>\n",
       "      <th>noball_runs</th>\n",
       "      <th>penalty_runs</th>\n",
       "      <th>batsman_runs</th>\n",
       "      <th>extra_runs</th>\n",
       "      <th>total_runs</th>\n",
       "      <th>player_dismissed</th>\n",
       "      <th>dismissal_kind</th>\n",
       "      <th>fielder</th>\n",
       "    </tr>\n",
       "  </thead>\n",
       "  <tbody>\n",
       "    <tr>\n",
       "      <th>0</th>\n",
       "      <td>1</td>\n",
       "      <td>1</td>\n",
       "      <td>Sunrisers Hyderabad</td>\n",
       "      <td>Royal Challengers Bangalore</td>\n",
       "      <td>1</td>\n",
       "      <td>1</td>\n",
       "      <td>DA Warner</td>\n",
       "      <td>S Dhawan</td>\n",
       "      <td>TS Mills</td>\n",
       "      <td>0</td>\n",
       "      <td>...</td>\n",
       "      <td>0</td>\n",
       "      <td>0</td>\n",
       "      <td>0</td>\n",
       "      <td>0</td>\n",
       "      <td>0</td>\n",
       "      <td>0</td>\n",
       "      <td>0</td>\n",
       "      <td>not out</td>\n",
       "      <td>not out</td>\n",
       "      <td>not out</td>\n",
       "    </tr>\n",
       "    <tr>\n",
       "      <th>1</th>\n",
       "      <td>1</td>\n",
       "      <td>1</td>\n",
       "      <td>Sunrisers Hyderabad</td>\n",
       "      <td>Royal Challengers Bangalore</td>\n",
       "      <td>1</td>\n",
       "      <td>2</td>\n",
       "      <td>DA Warner</td>\n",
       "      <td>S Dhawan</td>\n",
       "      <td>TS Mills</td>\n",
       "      <td>0</td>\n",
       "      <td>...</td>\n",
       "      <td>0</td>\n",
       "      <td>0</td>\n",
       "      <td>0</td>\n",
       "      <td>0</td>\n",
       "      <td>0</td>\n",
       "      <td>0</td>\n",
       "      <td>0</td>\n",
       "      <td>not out</td>\n",
       "      <td>not out</td>\n",
       "      <td>not out</td>\n",
       "    </tr>\n",
       "    <tr>\n",
       "      <th>2</th>\n",
       "      <td>1</td>\n",
       "      <td>1</td>\n",
       "      <td>Sunrisers Hyderabad</td>\n",
       "      <td>Royal Challengers Bangalore</td>\n",
       "      <td>1</td>\n",
       "      <td>3</td>\n",
       "      <td>DA Warner</td>\n",
       "      <td>S Dhawan</td>\n",
       "      <td>TS Mills</td>\n",
       "      <td>0</td>\n",
       "      <td>...</td>\n",
       "      <td>0</td>\n",
       "      <td>0</td>\n",
       "      <td>0</td>\n",
       "      <td>0</td>\n",
       "      <td>4</td>\n",
       "      <td>0</td>\n",
       "      <td>4</td>\n",
       "      <td>not out</td>\n",
       "      <td>not out</td>\n",
       "      <td>not out</td>\n",
       "    </tr>\n",
       "    <tr>\n",
       "      <th>3</th>\n",
       "      <td>1</td>\n",
       "      <td>1</td>\n",
       "      <td>Sunrisers Hyderabad</td>\n",
       "      <td>Royal Challengers Bangalore</td>\n",
       "      <td>1</td>\n",
       "      <td>4</td>\n",
       "      <td>DA Warner</td>\n",
       "      <td>S Dhawan</td>\n",
       "      <td>TS Mills</td>\n",
       "      <td>0</td>\n",
       "      <td>...</td>\n",
       "      <td>0</td>\n",
       "      <td>0</td>\n",
       "      <td>0</td>\n",
       "      <td>0</td>\n",
       "      <td>0</td>\n",
       "      <td>0</td>\n",
       "      <td>0</td>\n",
       "      <td>not out</td>\n",
       "      <td>not out</td>\n",
       "      <td>not out</td>\n",
       "    </tr>\n",
       "    <tr>\n",
       "      <th>4</th>\n",
       "      <td>1</td>\n",
       "      <td>1</td>\n",
       "      <td>Sunrisers Hyderabad</td>\n",
       "      <td>Royal Challengers Bangalore</td>\n",
       "      <td>1</td>\n",
       "      <td>5</td>\n",
       "      <td>DA Warner</td>\n",
       "      <td>S Dhawan</td>\n",
       "      <td>TS Mills</td>\n",
       "      <td>0</td>\n",
       "      <td>...</td>\n",
       "      <td>0</td>\n",
       "      <td>0</td>\n",
       "      <td>0</td>\n",
       "      <td>0</td>\n",
       "      <td>0</td>\n",
       "      <td>2</td>\n",
       "      <td>2</td>\n",
       "      <td>not out</td>\n",
       "      <td>not out</td>\n",
       "      <td>not out</td>\n",
       "    </tr>\n",
       "  </tbody>\n",
       "</table>\n",
       "<p>5 rows × 21 columns</p>\n",
       "</div>"
      ],
      "text/plain": [
       "   match_id  inning         batting_team                 bowling_team  over  \\\n",
       "0         1       1  Sunrisers Hyderabad  Royal Challengers Bangalore     1   \n",
       "1         1       1  Sunrisers Hyderabad  Royal Challengers Bangalore     1   \n",
       "2         1       1  Sunrisers Hyderabad  Royal Challengers Bangalore     1   \n",
       "3         1       1  Sunrisers Hyderabad  Royal Challengers Bangalore     1   \n",
       "4         1       1  Sunrisers Hyderabad  Royal Challengers Bangalore     1   \n",
       "\n",
       "   ball    batsman non_striker    bowler  is_super_over  ...  bye_runs  \\\n",
       "0     1  DA Warner    S Dhawan  TS Mills              0  ...         0   \n",
       "1     2  DA Warner    S Dhawan  TS Mills              0  ...         0   \n",
       "2     3  DA Warner    S Dhawan  TS Mills              0  ...         0   \n",
       "3     4  DA Warner    S Dhawan  TS Mills              0  ...         0   \n",
       "4     5  DA Warner    S Dhawan  TS Mills              0  ...         0   \n",
       "\n",
       "   legbye_runs  noball_runs  penalty_runs  batsman_runs  extra_runs  \\\n",
       "0            0            0             0             0           0   \n",
       "1            0            0             0             0           0   \n",
       "2            0            0             0             4           0   \n",
       "3            0            0             0             0           0   \n",
       "4            0            0             0             0           2   \n",
       "\n",
       "   total_runs  player_dismissed dismissal_kind  fielder  \n",
       "0           0           not out        not out  not out  \n",
       "1           0           not out        not out  not out  \n",
       "2           4           not out        not out  not out  \n",
       "3           0           not out        not out  not out  \n",
       "4           2           not out        not out  not out  \n",
       "\n",
       "[5 rows x 21 columns]"
      ]
     },
     "execution_count": 41,
     "metadata": {},
     "output_type": "execute_result"
    }
   ],
   "source": [
    "deliveries_data.head(5)"
   ]
  },
  {
   "cell_type": "markdown",
   "id": "da2f2210",
   "metadata": {},
   "source": [
    "# Top 10 Run scorer in IPL "
   ]
  },
  {
   "cell_type": "code",
   "execution_count": 42,
   "id": "1a5b7a12",
   "metadata": {},
   "outputs": [
    {
     "data": {
      "image/png": "[encoded data removed]",
      "text/plain": [
       "<Figure size 432x288 with 1 Axes>"
      ]
     },
     "metadata": {
      "needs_background": "light"
     },
     "output_type": "display_data"
    }
   ],
   "source": [
    "deliveries_data.groupby(\"batsman\")[\"batsman_runs\"].sum().sort_values(ascending=False).head(10).plot(kind=\"bar\")\n",
    "plt.ylabel(\"Run Scored\")\n",
    "plt.title(\"Top 10 Run Scorers\")\n",
    "plt.show()"
   ]
  },
  {
   "cell_type": "markdown",
   "id": "592a478f",
   "metadata": {},
   "source": [
    "Virat Kohli has scored maximum no of runs followed by SK Raina,RG Sharma "
   ]
  },
  {
   "cell_type": "markdown",
   "id": "ff4a1098",
   "metadata": {},
   "source": [
    "# Run scored by each team "
   ]
  },
  {
   "cell_type": "code",
   "execution_count": 43,
   "id": "fb9c7313",
   "metadata": {},
   "outputs": [
    {
     "data": {
      "text/plain": [
       "batting_team\n",
       "Mumbai Indians                 29809\n",
       "Royal Challengers Bangalore    28126\n",
       "Kings XI Punjab                27893\n",
       "Kolkata Knight Riders          27419\n",
       "Chennai Super Kings            26418\n",
       "Delhi Daredevils               24388\n",
       "Rajasthan Royals               22431\n",
       "Sunrisers Hyderabad            17059\n",
       "Deccan Chargers                11463\n",
       "Pune Warriors                   6358\n",
       "Gujarat Lions                   4862\n",
       "Rising Pune Supergiants         4533\n",
       "Delhi Capitals                  2630\n",
       "Kochi Tuskers Kerala            1901\n",
       "Name: total_runs, dtype: int64"
      ]
     },
     "execution_count": 43,
     "metadata": {},
     "output_type": "execute_result"
    }
   ],
   "source": [
    "deliveries_data.groupby(\"batting_team\")[\"total_runs\"].sum().sort_values(ascending=False)"
   ]
  },
  {
   "cell_type": "markdown",
   "id": "eeae72fa",
   "metadata": {},
   "source": [
    "Run scored by a team in all seasons"
   ]
  },
  {
   "cell_type": "markdown",
   "id": "1aae0d99",
   "metadata": {},
   "source": [
    "# Average run scored by each team in power play"
   ]
  },
  {
   "cell_type": "code",
   "execution_count": 44,
   "id": "f60f59da",
   "metadata": {},
   "outputs": [
    {
     "data": {
      "image/png": "[encoded data removed]",
      "text/plain": [
       "<Figure size 432x288 with 1 Axes>"
      ]
     },
     "metadata": {
      "needs_background": "light"
     },
     "output_type": "display_data"
    }
   ],
   "source": [
    "deliveries_data[deliveries_data['over']<=6].groupby(['match_id','batting_team']).sum()['total_runs'].groupby('batting_team').mean().sort_values(ascending=False).plot(kind=\"bar\")\n",
    "plt.ylabel(\"Avg Run scored\")\n",
    "plt.xlabel(\"Teams\")\n",
    "plt.show()"
   ]
  },
  {
   "cell_type": "markdown",
   "id": "522c3755",
   "metadata": {},
   "source": [
    "Delhi capital is highest run scorer in powerplay"
   ]
  },
  {
   "cell_type": "markdown",
   "id": "de0eaeee",
   "metadata": {},
   "source": [
    "# Maximum no. of Centuries Scored by player"
   ]
  },
  {
   "cell_type": "code",
   "execution_count": 45,
   "id": "8265bf87",
   "metadata": {},
   "outputs": [
    {
     "data": {
      "text/plain": [
       "<AxesSubplot:xlabel='batsman'>"
      ]
     },
     "execution_count": 45,
     "metadata": {},
     "output_type": "execute_result"
    },
    {
     "data": {
      "image/png": "[encoded data removed]",
      "text/plain": [
       "<Figure size 432x288 with 1 Axes>"
      ]
     },
     "metadata": {
      "needs_background": "light"
     },
     "output_type": "display_data"
    }
   ],
   "source": [
    "runs=deliveries_data.groupby([\"batsman\",\"match_id\"])[\"batsman_runs\"].sum()\n",
    "runs[runs>=100].droplevel(level=1).groupby(\"batsman\").count().sort_values(ascending=False)[:10].plot(kind=\"bar\")"
   ]
  },
  {
   "cell_type": "markdown",
   "id": "8a73e79e",
   "metadata": {},
   "source": [
    "CH Gayle has most no of centuries followed by V Kohli"
   ]
  },
  {
   "cell_type": "markdown",
   "id": "8caa3727",
   "metadata": {},
   "source": [
    "# Maximum no. of Half Centuries scored by player"
   ]
  },
  {
   "cell_type": "code",
   "execution_count": 46,
   "id": "e6254030",
   "metadata": {},
   "outputs": [
    {
     "data": {
      "image/png": "[encoded data removed]",
      "text/plain": [
       "<Figure size 432x288 with 1 Axes>"
      ]
     },
     "metadata": {
      "needs_background": "light"
     },
     "output_type": "display_data"
    }
   ],
   "source": [
    "runs=runs[runs>=50 ].droplevel(level=1).groupby(\"batsman\").count().sort_values(ascending=False)[:10]\n",
    "sns.barplot(y=runs.index,x=runs)\n",
    "plt.xlabel(\"No of Half centuries\")\n",
    "plt.ylabel(\"Batsman\")\n",
    "plt.show()"
   ]
  },
  {
   "cell_type": "markdown",
   "id": "641f6d42",
   "metadata": {},
   "source": [
    "DA Warner has most number of half centuries followed by Virat Kohli"
   ]
  },
  {
   "cell_type": "code",
   "execution_count": 47,
   "id": "c2685bc7",
   "metadata": {},
   "outputs": [
    {
     "name": "stdout",
     "output_type": "stream",
     "text": [
      "<class 'pandas.core.frame.DataFrame'>\n",
      "Int64Index: 179078 entries, 0 to 179077\n",
      "Data columns (total 40 columns):\n",
      " #   Column            Non-Null Count   Dtype \n",
      "---  ------            --------------   ----- \n",
      " 0   id                179078 non-null  int64 \n",
      " 1   season            179078 non-null  int64 \n",
      " 2   city              177378 non-null  object\n",
      " 3   date              179078 non-null  object\n",
      " 4   team1             179078 non-null  object\n",
      " 5   team2             179078 non-null  object\n",
      " 6   toss_winner       179078 non-null  object\n",
      " 7   toss_decision     179078 non-null  object\n",
      " 8   result            179078 non-null  object\n",
      " 9   dl_applied        179078 non-null  int64 \n",
      " 10  winner            178706 non-null  object\n",
      " 11  win_by_runs       179078 non-null  int64 \n",
      " 12  win_by_wickets    179078 non-null  int64 \n",
      " 13  player_of_match   178706 non-null  object\n",
      " 14  venue             179078 non-null  object\n",
      " 15  umpire1           178578 non-null  object\n",
      " 16  umpire2           178578 non-null  object\n",
      " 17  umpire3           28366 non-null   object\n",
      " 18  toss_match_win    179078 non-null  object\n",
      " 19  match_id          179078 non-null  int64 \n",
      " 20  inning            179078 non-null  int64 \n",
      " 21  batting_team      179078 non-null  object\n",
      " 22  bowling_team      179078 non-null  object\n",
      " 23  over              179078 non-null  int64 \n",
      " 24  ball              179078 non-null  int64 \n",
      " 25  batsman           179078 non-null  object\n",
      " 26  non_striker       179078 non-null  object\n",
      " 27  bowler            179078 non-null  object\n",
      " 28  is_super_over     179078 non-null  int64 \n",
      " 29  wide_runs         179078 non-null  int64 \n",
      " 30  bye_runs          179078 non-null  int64 \n",
      " 31  legbye_runs       179078 non-null  int64 \n",
      " 32  noball_runs       179078 non-null  int64 \n",
      " 33  penalty_runs      179078 non-null  int64 \n",
      " 34  batsman_runs      179078 non-null  int64 \n",
      " 35  extra_runs        179078 non-null  int64 \n",
      " 36  total_runs        179078 non-null  int64 \n",
      " 37  player_dismissed  179078 non-null  object\n",
      " 38  dismissal_kind    179078 non-null  object\n",
      " 39  fielder           179078 non-null  object\n",
      "dtypes: int64(18), object(22)\n",
      "memory usage: 56.0+ MB\n"
     ]
    }
   ],
   "source": [
    "#merging the two dataset\n",
    "ipl_data=pd.merge(match_data,deliveries_data,how=\"inner\",left_on=\"id\",right_on=\"match_id\")\n",
    "ipl_data.info()"
   ]
  },
  {
   "cell_type": "markdown",
   "id": "1fdc57f8",
   "metadata": {},
   "source": [
    "# Orange Cap Holder Each Seasons"
   ]
  },
  {
   "cell_type": "code",
   "execution_count": 48,
   "id": "9b507d6f",
   "metadata": {},
   "outputs": [
    {
     "name": "stdout",
     "output_type": "stream",
     "text": [
      "Season    Player              Runs                          \n",
      "2008 \t  SE Marsh \t\t 616\n",
      "2009 \t  ML Hayden \t\t 572\n",
      "2010 \t  SR Tendulkar \t\t 618\n",
      "2011 \t  CH Gayle \t\t 608\n",
      "2012 \t  CH Gayle \t\t 733\n",
      "2013 \t  MEK Hussey \t\t 733\n",
      "2014 \t  RV Uthappa \t\t 660\n",
      "2015 \t  DA Warner \t\t 562\n",
      "2016 \t  V Kohli \t\t 973\n",
      "2017 \t  DA Warner \t\t 641\n",
      "2018 \t  KS Williamson \t\t 747\n",
      "2019 \t  DA Warner \t\t 727\n"
     ]
    }
   ],
   "source": [
    "data = ipl_data.groupby(['season','batsman'])['batsman_runs'].sum().groupby('season').max()\n",
    "temp_df=pd.DataFrame(ipl_data.groupby(['season','batsman'])['batsman_runs'].sum())\n",
    "print(\"{0:10}{1:20}{2:30}\".format(\"Season\",\"Player\",\"Runs\"))\n",
    "for season,run in data.items():\n",
    "    player = temp_df.loc[season][temp_df.loc[season]['batsman_runs'] == run].index[0]\n",
    "    print(season,'\\t ',player,'\\t\\t',run)"
   ]
  },
  {
   "cell_type": "markdown",
   "id": "677e688d",
   "metadata": {},
   "source": [
    " DA Warner has won most no. of times Orange Cap "
   ]
  },
  {
   "cell_type": "markdown",
   "id": "b3670ac2",
   "metadata": {},
   "source": [
    "# Most Sixes hit by a batsman"
   ]
  },
  {
   "cell_type": "code",
   "execution_count": 49,
   "id": "019fb5ed",
   "metadata": {},
   "outputs": [
    {
     "data": {
      "image/png": "[encoded data removed]",
      "text/plain": [
       "<Figure size 432x288 with 1 Axes>"
      ]
     },
     "metadata": {
      "needs_background": "light"
     },
     "output_type": "display_data"
    }
   ],
   "source": [
    "data=ipl_data[ipl_data[\"batsman_runs\"]==6][\"batsman\"].value_counts()[:10]\n",
    "sns.barplot(y=data.index,x=data)\n",
    "plt.xlabel(\"No. of Sixes\")\n",
    "plt.ylabel(\"Batsman\")\n",
    "plt.show()"
   ]
  },
  {
   "cell_type": "markdown",
   "id": "afad1f3d",
   "metadata": {},
   "source": [
    "CH Gayle has hit maximum no of sixes"
   ]
  },
  {
   "cell_type": "markdown",
   "id": "0bbb3003",
   "metadata": {},
   "source": [
    "# Most Fours Hit by a batsman"
   ]
  },
  {
   "cell_type": "code",
   "execution_count": 50,
   "id": "236b9310",
   "metadata": {},
   "outputs": [
    {
     "data": {
      "image/png": "[encoded data removed]",
      "text/plain": [
       "<Figure size 432x288 with 1 Axes>"
      ]
     },
     "metadata": {
      "needs_background": "light"
     },
     "output_type": "display_data"
    }
   ],
   "source": [
    "#most fours by batsman\n",
    "data=ipl_data[ipl_data[\"batsman_runs\"]==4][\"batsman\"].value_counts()[:10]\n",
    "sns.barplot(y=data.index,x=data)\n",
    "plt.xlabel(\"No. of Sixes\")\n",
    "plt.ylabel(\"Batsman\")\n",
    "plt.show()"
   ]
  },
  {
   "cell_type": "markdown",
   "id": "f3f6624a",
   "metadata": {},
   "source": [
    "S Dhawan has maximum no. of fours followed by SK Raina"
   ]
  },
  {
   "cell_type": "markdown",
   "id": "0af64bd2",
   "metadata": {},
   "source": [
    "# No of sixes in each IPL season"
   ]
  },
  {
   "cell_type": "code",
   "execution_count": 51,
   "id": "508dab36",
   "metadata": {},
   "outputs": [
    {
     "data": {
      "image/png": "[encoded data removed]",
      "text/plain": [
       "<Figure size 432x288 with 1 Axes>"
      ]
     },
     "metadata": {
      "needs_background": "light"
     },
     "output_type": "display_data"
    }
   ],
   "source": [
    "#no of sixes in ipl seasons\n",
    "data=ipl_data[ipl_data[\"batsman_runs\"]==6].groupby(\"season\").count()[\"match_id\"].sort_values(ascending=False)\n",
    "sns.barplot(x=data.index,y=data)\n",
    "plt.xlabel(\"no of sixes\")\n",
    "plt.ylabel(\"Season\")\n",
    "plt.show()"
   ]
  },
  {
   "cell_type": "markdown",
   "id": "6626b4e5",
   "metadata": {},
   "source": [
    "Most no of sixes were hit in 2018"
   ]
  },
  {
   "cell_type": "markdown",
   "id": "28026681",
   "metadata": {},
   "source": [
    "# Highest Score By  teams"
   ]
  },
  {
   "cell_type": "code",
   "execution_count": 52,
   "id": "9d4b602c",
   "metadata": {},
   "outputs": [
    {
     "data": {
      "text/plain": [
       "batting_team\n",
       "Royal Challengers Bangalore    263\n",
       "Kolkata Knight Riders          250\n",
       "Royal Challengers Bangalore    248\n",
       "Chennai Super Kings            246\n",
       "Kolkata Knight Riders          241\n",
       "Chennai Super Kings            240\n",
       "Royal Challengers Bangalore    235\n",
       "Sunrisers Hyderabad            233\n",
       "Kings XI Punjab                232\n",
       "Sunrisers Hyderabad            232\n",
       "Name: total_runs, dtype: int64"
      ]
     },
     "execution_count": 52,
     "metadata": {},
     "output_type": "execute_result"
    }
   ],
   "source": [
    "ipl_data.groupby([\"match_id\",\"batting_team\"]).sum()[\"total_runs\"].droplevel(level=0).sort_values(ascending=False)[:10]"
   ]
  },
  {
   "cell_type": "markdown",
   "id": "ade0e7ce",
   "metadata": {},
   "source": [
    "Royal Challengers Bangalore has scored highest run in an inings  followed by kkr "
   ]
  },
  {
   "cell_type": "markdown",
   "id": "cedb6a67",
   "metadata": {},
   "source": [
    "# Highest Individual Score"
   ]
  },
  {
   "cell_type": "code",
   "execution_count": 53,
   "id": "b97891bc",
   "metadata": {},
   "outputs": [
    {
     "data": {
      "text/plain": [
       "match_id  batsman       \n",
       "411       CH Gayle          175\n",
       "60        BB McCullum       158\n",
       "562       AB de Villiers    133\n",
       "7935      RR Pant           130\n",
       "620       AB de Villiers    129\n",
       "372       CH Gayle          128\n",
       "206       M Vijay           127\n",
       "36        DA Warner         126\n",
       "516       V Sehwag          122\n",
       "7953      SR Watson         121\n",
       "Name: batsman_runs, dtype: int64"
      ]
     },
     "execution_count": 53,
     "metadata": {},
     "output_type": "execute_result"
    }
   ],
   "source": [
    "#highest individual score\n",
    "ipl_data.groupby([\"match_id\",\"batsman\"])[\"batsman_runs\"].sum().sort_values(ascending=False)[:10]"
   ]
  },
  {
   "cell_type": "markdown",
   "id": "02f6a0b8",
   "metadata": {},
   "source": [
    "CH Gayle has scored highest individual score  followed by BB macCullum"
   ]
  },
  {
   "cell_type": "markdown",
   "id": "8e68bb1c",
   "metadata": {},
   "source": [
    "# Most Sixes In an Inings By a batsman"
   ]
  },
  {
   "cell_type": "code",
   "execution_count": 54,
   "id": "5a4b46a5",
   "metadata": {},
   "outputs": [
    {
     "data": {
      "text/plain": [
       "batsman\n",
       "CH Gayle          17\n",
       "BB McCullum       13\n",
       "CH Gayle          13\n",
       "AB de Villiers    12\n",
       "CH Gayle          12\n",
       "M Vijay           11\n",
       "CH Gayle          11\n",
       "ST Jayasuriya     11\n",
       "AD Russell        11\n",
       "AC Gilchrist      10\n",
       "Name: season, dtype: int64"
      ]
     },
     "execution_count": 54,
     "metadata": {},
     "output_type": "execute_result"
    }
   ],
   "source": [
    "#most sixes in an inings by a batsman\n",
    "ipl_data[ipl_data[\"batsman_runs\"]==6].groupby([\"match_id\",\"batsman\"]).count()[\"season\"].sort_values(ascending=False).droplevel(level=0)[:10]"
   ]
  },
  {
   "cell_type": "markdown",
   "id": "e9089dda",
   "metadata": {},
   "source": [
    "CH Gayle has hit maximum no. of sixes in an inings"
   ]
  },
  {
   "cell_type": "markdown",
   "id": "2aa34db0",
   "metadata": {},
   "source": [
    "# Most fours in an inings by a batsman"
   ]
  },
  {
   "cell_type": "code",
   "execution_count": 55,
   "id": "406c724e",
   "metadata": {},
   "outputs": [
    {
     "data": {
      "text/plain": [
       "batsman\n",
       "PC Valthaty       19\n",
       "AB de Villiers    19\n",
       "AM Rahane         16\n",
       "MJ Lumb           16\n",
       "RR Pant           15\n",
       "M Vijay           15\n",
       "SS Iyer           15\n",
       "GJ Maxwell        15\n",
       "Q de Kock         15\n",
       "HM Amla           14\n",
       "Name: season, dtype: int64"
      ]
     },
     "execution_count": 55,
     "metadata": {},
     "output_type": "execute_result"
    }
   ],
   "source": [
    "#most fours in an ipl inings by a batsman\n",
    "ipl_data[ipl_data[\"batsman_runs\"]==4].groupby([\"match_id\",\"batsman\"]).count()[\"season\"].sort_values(ascending=False).droplevel(level=0)[:10]"
   ]
  },
  {
   "cell_type": "markdown",
   "id": "f2eabc9e",
   "metadata": {},
   "source": [
    "PC Valthaty and AB de Villiers has hit maximum no. of Fours "
   ]
  },
  {
   "cell_type": "markdown",
   "id": "f43f3c61",
   "metadata": {},
   "source": [
    "# Orange Cap Holder Each Season"
   ]
  },
  {
   "cell_type": "code",
   "execution_count": 56,
   "id": "d880c69e",
   "metadata": {},
   "outputs": [
    {
     "name": "stdout",
     "output_type": "stream",
     "text": [
      "Season    Player              wickets                       \n",
      "2008 \t  Sohail Tanvir \t\t 22\n",
      "2009 \t  RP Singh \t\t 23\n",
      "2010 \t  PP Ojha \t\t 21\n",
      "2011 \t  MM Patel \t\t 22\n",
      "2012 \t  M Morkel \t\t 25\n",
      "2013 \t  DJ Bravo \t\t 32\n",
      "2014 \t  MM Sharma \t\t 23\n",
      "2015 \t  A Nehra \t\t 22\n",
      "2016 \t  B Kumar \t\t 23\n",
      "2017 \t  B Kumar \t\t 26\n",
      "2018 \t  AJ Tye \t\t 24\n",
      "2019 \t  DL Chahar \t\t 22\n"
     ]
    }
   ],
   "source": [
    "lst = 'caught,bowled,lbw,stumped,caught and bowled,hit wicket'\n",
    "data = ipl_data[ipl_data[\"dismissal_kind\"].apply(lambda x: True if x in lst else False)].groupby([\"season\",\"bowler\"]).count()['ball']\n",
    "data=data.sort_values(ascending=False)[:30].sort_index(level=0)\n",
    "val=0\n",
    "lst=[]\n",
    "print(\"{0:10}{1:20}{2:30}\".format(\"Season\",\"Player\",\"wickets\"))\n",
    "for (season,bowler),wicket in data.items():\n",
    "    if season == val:\n",
    "        lst.append(wicket)        \n",
    "    else:\n",
    "        print(season,'\\t ',bowler,'\\t\\t',wicket)\n",
    "        val = season\n",
    "        lst=[]"
   ]
  },
  {
   "cell_type": "markdown",
   "id": "fec5e73f",
   "metadata": {},
   "source": [
    "# Top 10 Wicket takers"
   ]
  },
  {
   "cell_type": "code",
   "execution_count": 57,
   "id": "377c438b",
   "metadata": {},
   "outputs": [
    {
     "data": {
      "text/plain": [
       "<AxesSubplot:>"
      ]
     },
     "execution_count": 57,
     "metadata": {},
     "output_type": "execute_result"
    },
    {
     "data": {
      "image/png": "[encoded data removed]",
      "text/plain": [
       "<Figure size 432x288 with 1 Axes>"
      ]
     },
     "metadata": {
      "needs_background": "light"
     },
     "output_type": "display_data"
    }
   ],
   "source": [
    "lst = 'caught,bowled,lbw,stumped,caught and bowled,hit wicket'\n",
    "ipl_data[ipl_data[\"dismissal_kind\"].apply(lambda x: True if x in lst else False)][\"bowler\"].value_counts()[:10].plot(kind=\"bar\")"
   ]
  },
  {
   "cell_type": "markdown",
   "id": "2c4707ad",
   "metadata": {},
   "source": [
    "SL malinga is the highest wicket taker in the history of ipl till 2019"
   ]
  },
  {
   "cell_type": "markdown",
   "id": "59fad9d8",
   "metadata": {},
   "source": [
    "# Highest Run conceded by a bowler"
   ]
  },
  {
   "cell_type": "code",
   "execution_count": 58,
   "id": "2923e564",
   "metadata": {},
   "outputs": [
    {
     "data": {
      "image/png": "[encoded data removed]",
      "text/plain": [
       "<Figure size 432x288 with 1 Axes>"
      ]
     },
     "metadata": {
      "needs_background": "light"
     },
     "output_type": "display_data"
    }
   ],
   "source": [
    "#highest run conceded by a bowler\n",
    "ipl_data.groupby([\"bowler\",\"match_id\"])[\"total_runs\"].sum().droplevel(level=1).sort_values(ascending=False)[:10].plot(kind=\"bar\")\n",
    "plt.ylabel(\"Run conceded\")\n",
    "plt.show()"
   ]
  },
  {
   "cell_type": "markdown",
   "id": "2d519a6e",
   "metadata": {},
   "source": [
    "M Ur Rahman has conceded maximum runs in an inings."
   ]
  },
  {
   "cell_type": "markdown",
   "id": "4cb9ea51",
   "metadata": {},
   "source": [
    "# Maximum no of dot balls bowled by bowler"
   ]
  },
  {
   "cell_type": "code",
   "execution_count": 59,
   "id": "fef73c73",
   "metadata": {},
   "outputs": [
    {
     "data": {
      "image/png": "[encoded data removed]",
      "text/plain": [
       "<Figure size 432x288 with 1 Axes>"
      ]
     },
     "metadata": {
      "needs_background": "light"
     },
     "output_type": "display_data"
    }
   ],
   "source": [
    "#most dot balls in an ipl inings by a bowler\n",
    "data=ipl_data[ipl_data[\"total_runs\"]==0].groupby([\"bowler\"]).count()[\"match_id\"].sort_values(ascending=False)[:10]\n",
    "sns.barplot(y=data.index,x=data)\n",
    "plt.xlabel(\"No of dot balls\")\n",
    "plt.show()"
   ]
  },
  {
   "cell_type": "markdown",
   "id": "d8bd843d",
   "metadata": {},
   "source": [
    "Harbhajan Singh has bowled maximum no of dot balls followed by SL Malinga"
   ]
  },
  {
   "cell_type": "markdown",
   "id": "e5b7e469",
   "metadata": {},
   "source": [
    "# Top 10 Bowlers having maximum no of maiden overs bowled"
   ]
  },
  {
   "cell_type": "code",
   "execution_count": 60,
   "id": "71402a1a",
   "metadata": {},
   "outputs": [
    {
     "data": {
      "text/plain": [
       "P Kumar           12\n",
       "IK Pathan          9\n",
       "SL Malinga         8\n",
       "DW Steyn           8\n",
       "DS Kulkarni        7\n",
       "B Kumar            7\n",
       "DJ Bravo           6\n",
       "Sandeep Sharma     6\n",
       "Z Khan             5\n",
       "R Ashwin           5\n",
       "Name: bowler, dtype: int64"
      ]
     },
     "execution_count": 60,
     "metadata": {},
     "output_type": "execute_result"
    }
   ],
   "source": [
    "#most maiden over by a bowler\n",
    "data=ipl_data.groupby([\"match_id\",\"bowler\",\"over\"])[\"total_runs\"].sum()\n",
    "data=data[data.values==0].droplevel(level=[0,2])\n",
    "data.index.value_counts()[:10]"
   ]
  },
  {
   "cell_type": "markdown",
   "id": "fbe11e51",
   "metadata": {},
   "source": [
    "P Kumar has bowled most no. of maiden over"
   ]
  },
  {
   "cell_type": "markdown",
   "id": "2cda25a5",
   "metadata": {},
   "source": [
    "# number of wickets taken by each team"
   ]
  },
  {
   "cell_type": "code",
   "execution_count": 61,
   "id": "a4599a78",
   "metadata": {},
   "outputs": [
    {
     "data": {
      "image/png": "[encoded data removed]",
      "text/plain": [
       "<Figure size 432x288 with 1 Axes>"
      ]
     },
     "metadata": {
      "needs_background": "light"
     },
     "output_type": "display_data"
    }
   ],
   "source": [
    "#most wickets by an ipl team\n",
    "data=ipl_data[ipl_data[\"dismissal_kind\"].apply(lambda x: True if x not in [\"not out\"] else False)][\"bowling_team\"].value_counts()\n",
    "sns.barplot(y=data.index,x=data)\n",
    "plt.xlabel(\"Wickets\")\n",
    "plt.ylabel(\"Teams\")\n",
    "plt.show()"
   ]
  },
  {
   "cell_type": "markdown",
   "id": "a38ff2da",
   "metadata": {},
   "source": [
    "Mumbai Indians have taken most wickets followed by Royal Challengers Banglore"
   ]
  },
  {
   "cell_type": "markdown",
   "id": "7021d5b9",
   "metadata": {},
   "source": [
    "# Extra runs conceded by Each Team"
   ]
  },
  {
   "cell_type": "code",
   "execution_count": 62,
   "id": "f1582527",
   "metadata": {},
   "outputs": [
    {
     "data": {
      "image/png": "[encoded data removed]",
      "text/plain": [
       "<Figure size 432x288 with 1 Axes>"
      ]
     },
     "metadata": {
      "needs_background": "light"
     },
     "output_type": "display_data"
    }
   ],
   "source": [
    "data=ipl_data.groupby([\"batting_team\"])[\"extra_runs\"].agg(\"sum\").sort_values(ascending=False)\n",
    "sns.barplot(y=data.index,x=data)\n",
    "plt.xlabel(\"Extra runs\")\n",
    "plt.ylabel(\"Teams\")\n",
    "plt.show()"
   ]
  },
  {
   "cell_type": "markdown",
   "id": "d94868be",
   "metadata": {},
   "source": [
    "Mumbai Indians have conceded most extra runs followed by KKR"
   ]
  },
  {
   "cell_type": "markdown",
   "id": "0250ab74",
   "metadata": {},
   "source": [
    "# Maximum number of wickets taken by fielder"
   ]
  },
  {
   "cell_type": "code",
   "execution_count": 63,
   "id": "8c8decc3",
   "metadata": {},
   "outputs": [
    {
     "data": {
      "image/png": "[encoded data removed]",
      "text/plain": [
       "<Figure size 432x288 with 1 Axes>"
      ]
     },
     "metadata": {
      "needs_background": "light"
     },
     "output_type": "display_data"
    }
   ],
   "source": [
    "fielder=ipl_data.groupby(\"fielder\").apply(lambda x:x).reset_index()\n",
    "fielder_count=fielder.groupby(\"fielder\").count()\n",
    "fielder_counts=fielder_count[\"dismissal_kind\"].reset_index(name=\"dismissals\")\n",
    "top_fielder=fielder_counts.sort_values(by=\"dismissals\",ascending=False)[1:11]\n",
    "sns.barplot(y=top_fielder.fielder,x=top_fielder.dismissals)\n",
    "plt.show()"
   ]
  },
  {
   "cell_type": "markdown",
   "id": "7c5b27d1",
   "metadata": {},
   "source": [
    "MS Dhoni has dismissed maximum no. of players followed by KD Karthik"
   ]
  },
  {
   "cell_type": "markdown",
   "id": "e3829df5",
   "metadata": {},
   "source": [
    "# Head To head match analysis"
   ]
  },
  {
   "cell_type": "code",
   "execution_count": 111,
   "id": "2e82647f",
   "metadata": {},
   "outputs": [
    {
     "data": {
      "text/plain": [
       "Text(23.999999999999982, 0.5, 'Match')"
      ]
     },
     "execution_count": 111,
     "metadata": {},
     "output_type": "execute_result"
    },
    {
     "data": {
      "text/plain": [
       "<Figure size 432x288 with 0 Axes>"
      ]
     },
     "metadata": {},
     "output_type": "display_data"
    },
    {
     "data": {
      "image/png": "[encoded data removed]",
      "text/plain": [
       "<Figure size 360x1080 with 2 Axes>"
      ]
     },
     "metadata": {
      "needs_background": "light"
     },
     "output_type": "display_data"
    }
   ],
   "source": [
    "team=match_data[\"team1\"].unique()\n",
    "team1_filter=match_data[match_data.team1.isin(team)]\n",
    "team2_filter=team1_filter[team1_filter.team2.isin(team)]\n",
    "team_filter=team2_filter[team2_filter.winner.isin(team)]\n",
    "headToheadMatch=team_filter.groupby([\"team1\",\"team2\",\"winner\"]).apply(lambda x:x[\"winner\"].count()).reset_index(name=\"win_count\")\n",
    "headToheadMatch[\"game\"]=headToheadMatch[\"team1\"]+\" vs \"+headToheadMatch[\"team2\"]\n",
    "heatmapdata=pd.pivot_table(headToheadMatch,values=\"win_count\",index=[\"game\"],columns=\"winner\")\n",
    "fig=plt.figure()\n",
    "fig,ax=plt.subplots(1,1,figsize=(5,15))\n",
    "g=sns.heatmap(heatmapdata,annot=True,cmap=\"YlGnBu\",fmt=\"g\")\n",
    "ax.set_title(\"Head to Head Matches Result\",size=25)\n",
    "ax.set_xlabel(\"winner\",size=20)\n",
    "ax.set_ylabel(\"Match\",size=20)"
   ]
  },
  {
   "cell_type": "markdown",
   "id": "01f19696",
   "metadata": {},
   "source": [
    "# Top 10 players having most no of player of the match award at same stadium "
   ]
  },
  {
   "cell_type": "code",
   "execution_count": 164,
   "id": "d523cd4a",
   "metadata": {},
   "outputs": [
    {
     "data": {
      "text/html": [
       "<div>\n",
       "<style scoped>\n",
       "    .dataframe tbody tr th:only-of-type {\n",
       "        vertical-align: middle;\n",
       "    }\n",
       "\n",
       "    .dataframe tbody tr th {\n",
       "        vertical-align: top;\n",
       "    }\n",
       "\n",
       "    .dataframe thead th {\n",
       "        text-align: right;\n",
       "    }\n",
       "</style>\n",
       "<table border=\"1\" class=\"dataframe\">\n",
       "  <thead>\n",
       "    <tr style=\"text-align: right;\">\n",
       "      <th></th>\n",
       "      <th>player_of_match</th>\n",
       "      <th>venue</th>\n",
       "      <th>no_of_times</th>\n",
       "    </tr>\n",
       "  </thead>\n",
       "  <tbody>\n",
       "    <tr>\n",
       "      <th>130</th>\n",
       "      <td>DA Warner</td>\n",
       "      <td>Rajiv Gandhi Intl. Cricket Stadium</td>\n",
       "      <td>9</td>\n",
       "    </tr>\n",
       "    <tr>\n",
       "      <th>27</th>\n",
       "      <td>AB de Villiers</td>\n",
       "      <td>M. Chinnaswamy Stadium</td>\n",
       "      <td>9</td>\n",
       "    </tr>\n",
       "    <tr>\n",
       "      <th>110</th>\n",
       "      <td>CH Gayle</td>\n",
       "      <td>M. Chinnaswamy Stadium</td>\n",
       "      <td>9</td>\n",
       "    </tr>\n",
       "    <tr>\n",
       "      <th>44</th>\n",
       "      <td>AD Russell</td>\n",
       "      <td>Eden Gardens</td>\n",
       "      <td>8</td>\n",
       "    </tr>\n",
       "    <tr>\n",
       "      <th>407</th>\n",
       "      <td>RG Sharma</td>\n",
       "      <td>Wankhede Stadium</td>\n",
       "      <td>7</td>\n",
       "    </tr>\n",
       "    <tr>\n",
       "      <th>529</th>\n",
       "      <td>V Kohli</td>\n",
       "      <td>M. Chinnaswamy Stadium</td>\n",
       "      <td>6</td>\n",
       "    </tr>\n",
       "    <tr>\n",
       "      <th>474</th>\n",
       "      <td>SP Narine</td>\n",
       "      <td>Eden Gardens</td>\n",
       "      <td>6</td>\n",
       "    </tr>\n",
       "    <tr>\n",
       "      <th>248</th>\n",
       "      <td>KA Pollard</td>\n",
       "      <td>Wankhede Stadium</td>\n",
       "      <td>5</td>\n",
       "    </tr>\n",
       "    <tr>\n",
       "      <th>446</th>\n",
       "      <td>SE Marsh</td>\n",
       "      <td>Punjab Cricket Association Stadium, Mohali</td>\n",
       "      <td>5</td>\n",
       "    </tr>\n",
       "    <tr>\n",
       "      <th>307</th>\n",
       "      <td>MEK Hussey</td>\n",
       "      <td>MA Chidambaram Stadium, Chepauk</td>\n",
       "      <td>5</td>\n",
       "    </tr>\n",
       "  </tbody>\n",
       "</table>\n",
       "</div>"
      ],
      "text/plain": [
       "    player_of_match                                       venue  no_of_times\n",
       "130       DA Warner          Rajiv Gandhi Intl. Cricket Stadium            9\n",
       "27   AB de Villiers                      M. Chinnaswamy Stadium            9\n",
       "110        CH Gayle                      M. Chinnaswamy Stadium            9\n",
       "44       AD Russell                                Eden Gardens            8\n",
       "407       RG Sharma                            Wankhede Stadium            7\n",
       "529         V Kohli                      M. Chinnaswamy Stadium            6\n",
       "474       SP Narine                                Eden Gardens            6\n",
       "248      KA Pollard                            Wankhede Stadium            5\n",
       "446        SE Marsh  Punjab Cricket Association Stadium, Mohali            5\n",
       "307      MEK Hussey             MA Chidambaram Stadium, Chepauk            5"
      ]
     },
     "execution_count": 164,
     "metadata": {},
     "output_type": "execute_result"
    }
   ],
   "source": [
    "pom=match_data.groupby([\"player_of_match\",\"venue\"]).apply(lambda x: x[\"player_of_match\"].count()).reset_index(name=\"no_of_times\")\n",
    "pom.sort_values(by=[\"no_of_times\",\"venue\"],inplace=True,ascending=False)\n",
    "pom[:10]\n"
   ]
  },
  {
   "cell_type": "code",
   "execution_count": null,
   "id": "a154d794",
   "metadata": {},
   "outputs": [],
   "source": []
  },
  {
   "cell_type": "markdown",
   "id": "c3621a8d",
   "metadata": {},
   "source": [
    "DA warner,AB de villers,CH Gayle has won most no of player of match award at same stadium"
   ]
  }
 ],
 "metadata": {
  "kernelspec": {
   "display_name": "Python 3",
   "language": "python",
   "name": "python3"
  },
  "language_info": {
   "codemirror_mode": {
    "name": "ipython",
    "version": 3
   },
   "file_extension": ".py",
   "mimetype": "text/x-python",
   "name": "python",
   "nbconvert_exporter": "python",
   "pygments_lexer": "ipython3",
   "version": "3.7.3"
  }
 },
 "nbformat": 4,
 "nbformat_minor": 5
}
